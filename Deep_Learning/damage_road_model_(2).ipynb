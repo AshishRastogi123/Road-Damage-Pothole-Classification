{
  "cells": [
    {
      "cell_type": "code",
      "source": [
        "from google.colab import drive\n",
        "drive.mount('/content/drive')"
      ],
      "metadata": {
        "colab": {
          "base_uri": "https://localhost:8080/"
        },
        "id": "JVZNBReN-djm",
        "outputId": "10276e87-98c4-406e-d581-60b8f0cc68a9"
      },
      "id": "JVZNBReN-djm",
      "execution_count": 1,
      "outputs": [
        {
          "output_type": "stream",
          "name": "stdout",
          "text": [
            "Mounted at /content/drive\n"
          ]
        }
      ]
    },
    {
      "cell_type": "code",
      "execution_count": 2,
      "id": "c8b09133-156b-4b5b-9298-cb6f8504dd36",
      "metadata": {
        "colab": {
          "base_uri": "https://localhost:8080/"
        },
        "id": "c8b09133-156b-4b5b-9298-cb6f8504dd36",
        "outputId": "05548928-75b6-4720-a534-1ea2b0ff729a"
      },
      "outputs": [
        {
          "output_type": "stream",
          "name": "stdout",
          "text": [
            "Dataset extracted to: /content/dataset_extracted\n"
          ]
        }
      ],
      "source": [
        "import zipfile\n",
        "from pathlib import Path\n",
        "\n",
        "ZIP_PATH = Path(\"/content/drive/MyDrive/Colab_dataset/archive(9).zip\")\n",
        "EXTRACT_DIR = Path(\"dataset_extracted\")\n",
        "\n",
        "with zipfile.ZipFile(ZIP_PATH, 'r') as zf:\n",
        "    zf.extractall(EXTRACT_DIR)\n",
        "\n",
        "print(\"Dataset extracted to:\", EXTRACT_DIR.resolve())\n"
      ]
    },
    {
      "cell_type": "code",
      "execution_count": 3,
      "id": "39700ebf-2df4-4e41-8092-932bc43c7a69",
      "metadata": {
        "colab": {
          "base_uri": "https://localhost:8080/"
        },
        "id": "39700ebf-2df4-4e41-8092-932bc43c7a69",
        "outputId": "5fb25c6d-e508-426d-fe6a-addd387b6de3"
      },
      "outputs": [
        {
          "output_type": "stream",
          "name": "stdout",
          "text": [
            "Validation  split created successfully!\n"
          ]
        }
      ],
      "source": [
        "import os\n",
        "import cv2\n",
        "import shutil\n",
        "import random\n",
        "from pathlib import Path\n",
        "\n",
        "# Path jahan tumhara training data hai\n",
        "train_dir = Path(\"dataset_extracted/train\")\n",
        "\n",
        "# Naya validation folder ka path\n",
        "val_dir = Path(\"dataset_extracted/val\")\n",
        "val_dir.mkdir(exist_ok=True)\n",
        "\n",
        "# Har class ke liye 10% images val folder me move karte hain\n",
        "for class_folder in train_dir.iterdir():\n",
        "    if class_folder.is_dir():\n",
        "        val_class_dir = val_dir / class_folder.name\n",
        "        val_class_dir.mkdir(parents=True, exist_ok=True)\n",
        "\n",
        "        # Folder ke andar sab images list karo\n",
        "        images = list(class_folder.glob(\"*.*\"))\n",
        "        random.shuffle(images)\n",
        "        val_count = int(0.1 * len(images))  # 10% split\n",
        "        val_images = images[:val_count]\n",
        "\n",
        "        # Images move kar do validation folder me\n",
        "        for img_path in val_images:\n",
        "            shutil.move(str(img_path), str(val_class_dir / img_path.name))\n",
        "\n",
        "print(\"Validation  split created successfully!\")\n"
      ]
    },
    {
      "cell_type": "code",
      "execution_count": 4,
      "id": "HANuHYwK7eRt",
      "metadata": {
        "id": "HANuHYwK7eRt",
        "colab": {
          "base_uri": "https://localhost:8080/"
        },
        "outputId": "1da871a7-42c6-44ab-be7f-bdc8ec061744"
      },
      "outputs": [
        {
          "output_type": "stream",
          "name": "stdout",
          "text": [
            "debris: 100 images\n",
            "Damaged_building: 100 images\n",
            "Non-damaged_building: 200 images\n",
            "Non-damaged_highway: 100 images\n",
            "Damaged_highway: 100 images\n"
          ]
        }
      ],
      "source": [
        "for folder in os.listdir(\"dataset_extracted/test\"):\n",
        "    path = os.path.join(\"dataset_extracted/test\", folder)\n",
        "    print(f\"{folder}: {len(os.listdir(path))} images\")"
      ]
    },
    {
      "cell_type": "code",
      "execution_count": 5,
      "id": "NOAKn49A2hbk",
      "metadata": {
        "id": "NOAKn49A2hbk",
        "colab": {
          "base_uri": "https://localhost:8080/"
        },
        "outputId": "67903c2e-3cc6-4926-c755-716662856824"
      },
      "outputs": [
        {
          "output_type": "stream",
          "name": "stdout",
          "text": [
            "debris: 372 images\n",
            "Non-damaged_building: 1495 images\n",
            "Non-damaged_highway: 478 images\n",
            "Damaged_highway: 648 images\n",
            "damaged_buildings: 404 images\n"
          ]
        }
      ],
      "source": [
        "for folder in os.listdir(\"dataset_extracted/train\"):\n",
        "    path = os.path.join(\"dataset_extracted/train\", folder)\n",
        "    print(f\"{folder}: {len(os.listdir(path))} images\")"
      ]
    },
    {
      "cell_type": "code",
      "execution_count": 6,
      "id": "8aaba0bd-0528-443a-9475-d7b8a36f8915",
      "metadata": {
        "id": "8aaba0bd-0528-443a-9475-d7b8a36f8915",
        "colab": {
          "base_uri": "https://localhost:8080/"
        },
        "outputId": "4c928d3b-562d-4b93-f297-073009e274be"
      },
      "outputs": [
        {
          "output_type": "stream",
          "name": "stdout",
          "text": [
            "debris: 41 images\n",
            "Non-damaged_building: 166 images\n",
            "Non-damaged_highway: 53 images\n",
            "Damaged_highway: 72 images\n",
            "damaged_buildings: 44 images\n"
          ]
        }
      ],
      "source": [
        "for folder in os.listdir(\"dataset_extracted/val\"):\n",
        "    path = os.path.join(\"dataset_extracted/val\", folder)\n",
        "    print(f\"{folder}: {len(os.listdir(path))} images\")\n"
      ]
    },
    {
      "cell_type": "code",
      "execution_count": 7,
      "id": "e8a4894c-bb1b-4005-b4eb-29d83e9c9699",
      "metadata": {
        "id": "e8a4894c-bb1b-4005-b4eb-29d83e9c9699"
      },
      "outputs": [],
      "source": [
        "# Imports\n",
        "import os\n",
        "from pathlib import Path\n",
        "import json\n",
        "import numpy as np\n",
        "import matplotlib.pyplot as plt\n",
        "\n",
        "import tensorflow as tf\n",
        "from tensorflow.keras.preprocessing.image import ImageDataGenerator\n",
        "from tensorflow.keras.callbacks import ModelCheckpoint, ReduceLROnPlateau, EarlyStopping\n",
        "\n",
        "from sklearn.metrics import classification_report, confusion_matrix\n",
        "import itertools\n",
        "\n",
        "# To show progress Bar\n",
        "from tqdm import tqdm"
      ]
    },
    {
      "cell_type": "code",
      "execution_count": 8,
      "id": "deb3b0d7-c20d-4a88-a4b9-ed5ed524308f",
      "metadata": {
        "id": "deb3b0d7-c20d-4a88-a4b9-ed5ed524308f"
      },
      "outputs": [],
      "source": [
        "import matplotlib.pyplot as plt"
      ]
    },
    {
      "cell_type": "code",
      "execution_count": 9,
      "id": "c7d083f6-4768-4b75-9a2e-ead4b857252a",
      "metadata": {
        "id": "c7d083f6-4768-4b75-9a2e-ead4b857252a"
      },
      "outputs": [],
      "source": [
        "# Paths and hyperparameters\n",
        "\n",
        "BASE_DIR = Path(\"dataset_extracted\")   # your extracted dataset folder\n",
        "TRAIN_DIR = BASE_DIR / \"train\"\n",
        "VAL_DIR   = BASE_DIR / \"val\"\n",
        "TEST_DIR  = BASE_DIR / \"test\"\n",
        "\n",
        "IMG_SIZE = (224, 224)     # MobileNetV2 recommended size\n",
        "BATCH_SIZE = 32\n",
        "EPOCHS = 20\n",
        "MODEL_SAVE_PATH = \"road_damage_mobilenetv2.h5\"\n",
        "BEST_MODEL_PATH = \"best_model.h5\"\n",
        "RANDOM_SEED = 42\n",
        "\n",
        "tf.random.set_seed(RANDOM_SEED)\n",
        "np.random.seed(RANDOM_SEED)\n"
      ]
    },
    {
      "cell_type": "code",
      "execution_count": 10,
      "id": "010c30e1-112d-42b6-9844-1f8614535afe",
      "metadata": {
        "id": "010c30e1-112d-42b6-9844-1f8614535afe"
      },
      "outputs": [],
      "source": [
        "# Store the input images folders\n",
        "train_dir = 'dataset_extracted/train'      # this is train images folder\n",
        "test_dir = 'dataset_extracted/test'        # this is test images folder"
      ]
    },
    {
      "cell_type": "code",
      "execution_count": 11,
      "id": "a1d0ec93-18c0-407f-b1a0-d5d9887180d9",
      "metadata": {
        "id": "a1d0ec93-18c0-407f-b1a0-d5d9887180d9"
      },
      "outputs": [],
      "source": [
        "#For stored resized images\n",
        "\n",
        "output_train_dir = 'Processed_Train'\n",
        "output_test_dir = 'Processed_Test'"
      ]
    },
    {
      "cell_type": "code",
      "source": [
        "def is_blurry_or_low_res(image_path, blur_threshold=100, min_dim=50):\n",
        "    \"\"\"\n",
        "    Checks if an image is blurry or low resolution.\n",
        "\n",
        "    Args:\n",
        "        image_path (str): The path to the image file.\n",
        "        blur_threshold (int): The threshold for blur detection (lower means more blurry).\n",
        "        min_dim (int): The minimum dimension (width or height) for an image to be considered not low resolution.\n",
        "\n",
        "    Returns:\n",
        "        bool: True if the image is blurry or low resolution, False otherwise.\n",
        "    \"\"\"\n",
        "    img = cv2.imread(image_path)\n",
        "    if img is None:\n",
        "        return True  # Consider unreadable images as irrelevant\n",
        "\n",
        "    # Check for low resolution\n",
        "    if img.shape[0] < min_dim or img.shape[1] < min_dim:\n",
        "        return True\n",
        "\n",
        "    # Convert to grayscale for blur detection\n",
        "    gray = cv2.cvtColor(img, cv2.COLOR_BGR2GRAY)\n",
        "\n",
        "    # Calculate the variance of the Laplacian\n",
        "    laplacian_var = cv2.Laplacian(gray, cv2.CV_64F).var()\n",
        "\n",
        "    # Check for blurriness\n",
        "    if laplacian_var < blur_threshold:\n",
        "        return True\n",
        "\n",
        "    return False\n",
        "\n",
        "def clean_dataset(input_folder, output_folder_cleaned, blur_threshold=100, min_dim=50):\n",
        "    \"\"\"\n",
        "    Cleans a dataset by removing blurry, low-resolution, or irrelevant images.\n",
        "\n",
        "    Args:\n",
        "        input_folder (str): The path to the input dataset folder.\n",
        "        output_folder_cleaned (str): The path to the output folder for cleaned images.\n",
        "        blur_threshold (int): The threshold for blur detection.\n",
        "        min_dim (int): The minimum dimension for an image.\n",
        "    \"\"\"\n",
        "    os.makedirs(output_folder_cleaned, exist_ok=True)\n",
        "\n",
        "    for category in os.listdir(input_folder):\n",
        "        category_path = os.path.join(input_folder, category)\n",
        "        cleaned_category_path = os.path.join(output_folder_cleaned, category)\n",
        "        os.makedirs(cleaned_category_path, exist_ok=True)\n",
        "\n",
        "        print(f\"\\n Cleaning Category: {category}\")\n",
        "        for file_name in tqdm(os.listdir(category_path)):\n",
        "            file_path = os.path.join(category_path, file_name)\n",
        "            if not is_blurry_or_low_res(file_path, blur_threshold, min_dim):\n",
        "                # Copy the image to the cleaned folder if it's not blurry or low-res\n",
        "                shutil.copy(file_path, cleaned_category_path)\n",
        "\n",
        "    print(\"\\nDataset cleaning complete.\")\n",
        "\n",
        "# Example usage:\n",
        "# clean_dataset('dataset_extracted/train', 'dataset_extracted/train_cleaned')\n",
        "# clean_dataset('dataset_extracted/test', 'dataset_extracted/test_cleaned')"
      ],
      "metadata": {
        "id": "90Xli8-wAMLq"
      },
      "id": "90Xli8-wAMLq",
      "execution_count": 12,
      "outputs": []
    },
    {
      "cell_type": "code",
      "execution_count": 13,
      "id": "beda5b5d-2b3d-45ff-a6da-b41db226a0ba",
      "metadata": {
        "id": "beda5b5d-2b3d-45ff-a6da-b41db226a0ba"
      },
      "outputs": [],
      "source": [
        "# Function for resize and normalize image and clean\n",
        "def preprocess_images(input_folder, output_folder, target_size=(224, 224), blur_threshold=100, min_dim=50):\n",
        "    for category in os.listdir(input_folder):                 # for each class and folder\n",
        "        category_path = os.path.join(input_folder, category)\n",
        "        save_path = os.path.join(output_folder, category)\n",
        "\n",
        "        os.makedirs(save_path, exist_ok=True)                 # Create the same class folder in the output\n",
        "\n",
        "        print(f\"\\n Processing Category: {category}\")\n",
        "        for file_name in tqdm(os.listdir(category_path)):\n",
        "            file_path = os.path.join(category_path, file_name)\n",
        "            try:\n",
        "                # Check if the image is blurry or low resolution\n",
        "                if is_blurry_or_low_res(file_path, blur_threshold, min_dim):\n",
        "                    print(f\"Skipping blurry or low-res image: {file_name}\")\n",
        "                    continue\n",
        "\n",
        "                # read image\n",
        "                img = cv2.imread(file_path)\n",
        "                if img is None:\n",
        "                    print(f\"Skipping unreadable image: {file_name}\")\n",
        "                    continue  # If the image is corrupted, then skip it.\n",
        "\n",
        "                # resize image\n",
        "                img_resized = cv2.resize(img, target_size)\n",
        "\n",
        "                # normalize (0-1 range)\n",
        "                img_normalized = img_resized / 255.0\n",
        "\n",
        "                # save processed image\n",
        "                save_file = os.path.join(save_path, file_name)\n",
        "                cv2.imwrite(save_file, (img_normalized * 255))  # Convert back to 0-255 before saving\n",
        "\n",
        "            except Exception as e:\n",
        "                print(f\"Error in {file_name}: {e}\")"
      ]
    },
    {
      "cell_type": "code",
      "execution_count": 14,
      "id": "b644b4ee-d427-404e-a29f-130cdae1f287",
      "metadata": {
        "id": "b644b4ee-d427-404e-a29f-130cdae1f287",
        "colab": {
          "base_uri": "https://localhost:8080/"
        },
        "outputId": "e0dab201-8990-441b-bb6c-0c6a7170dab7"
      },
      "outputs": [
        {
          "output_type": "stream",
          "name": "stdout",
          "text": [
            "\n",
            " Processing Category: debris\n"
          ]
        },
        {
          "output_type": "stream",
          "name": "stderr",
          "text": [
            " 24%|██▍       | 89/372 [00:00<00:02, 136.07it/s]"
          ]
        },
        {
          "output_type": "stream",
          "name": "stdout",
          "text": [
            "Skipping blurry or low-res image: 1 (424).JPG\n",
            "Skipping blurry or low-res image: 1 (413).JPG\n"
          ]
        },
        {
          "output_type": "stream",
          "name": "stderr",
          "text": [
            " 58%|█████▊    | 214/372 [00:01<00:01, 144.37it/s]"
          ]
        },
        {
          "output_type": "stream",
          "name": "stdout",
          "text": [
            "Skipping blurry or low-res image: 1 (295).JPG\n"
          ]
        },
        {
          "output_type": "stream",
          "name": "stderr",
          "text": [
            "100%|██████████| 372/372 [00:02<00:00, 154.17it/s]\n"
          ]
        },
        {
          "output_type": "stream",
          "name": "stdout",
          "text": [
            "\n",
            " Processing Category: Non-damaged_building\n"
          ]
        },
        {
          "output_type": "stream",
          "name": "stderr",
          "text": [
            "  3%|▎         | 44/1495 [00:00<00:03, 432.13it/s]"
          ]
        },
        {
          "output_type": "stream",
          "name": "stdout",
          "text": [
            "Skipping blurry or low-res image: 4 (459).jpeg\n",
            "Skipping blurry or low-res image: 4 (394).jpeg\n",
            "Skipping blurry or low-res image: 4 (456).jpeg\n"
          ]
        },
        {
          "output_type": "stream",
          "name": "stderr",
          "text": [
            "\r  6%|▌         | 90/1495 [00:00<00:03, 445.48it/s]"
          ]
        },
        {
          "output_type": "stream",
          "name": "stdout",
          "text": [
            "Skipping blurry or low-res image: 4 (419).jpeg\n"
          ]
        },
        {
          "output_type": "stream",
          "name": "stderr",
          "text": [
            " 12%|█▏        | 180/1495 [00:00<00:02, 443.86it/s]"
          ]
        },
        {
          "output_type": "stream",
          "name": "stdout",
          "text": [
            "Skipping blurry or low-res image: 4 (158).jpeg\n",
            "Skipping blurry or low-res image: 4 (307).jpeg\n"
          ]
        },
        {
          "output_type": "stream",
          "name": "stderr",
          "text": [
            "\r 15%|█▌        | 225/1495 [00:00<00:02, 433.25it/s]"
          ]
        },
        {
          "output_type": "stream",
          "name": "stdout",
          "text": [
            "Skipping blurry or low-res image: 4 (311).jpeg\n"
          ]
        },
        {
          "output_type": "stream",
          "name": "stderr",
          "text": [
            "\r 18%|█▊        | 271/1495 [00:00<00:02, 442.11it/s]"
          ]
        },
        {
          "output_type": "stream",
          "name": "stdout",
          "text": [
            "Skipping blurry or low-res image: 4 (128).jpeg\n",
            "Skipping blurry or low-res image: 4 (288).jpeg\n",
            "Skipping blurry or low-res image: 4 (210).jpeg\n",
            "Skipping blurry or low-res image: 4 (203).jpeg\n"
          ]
        },
        {
          "output_type": "stream",
          "name": "stderr",
          "text": [
            " 27%|██▋       | 404/1495 [00:00<00:02, 425.51it/s]"
          ]
        },
        {
          "output_type": "stream",
          "name": "stdout",
          "text": [
            "Skipping blurry or low-res image: 4 (450).jpeg\n",
            "Skipping blurry or low-res image: 4 (259).jpeg\n",
            "Skipping blurry or low-res image: 4 (512).jpeg\n",
            "Skipping blurry or low-res image: 4 (513).jpeg\n",
            "Skipping blurry or low-res image: 4 (422).jpeg\n",
            "Skipping blurry or low-res image: 4 (354).jpeg\n",
            "Skipping blurry or low-res image: 4 (257).jpeg\n"
          ]
        },
        {
          "output_type": "stream",
          "name": "stderr",
          "text": [
            " 33%|███▎      | 498/1495 [00:01<00:02, 443.00it/s]"
          ]
        },
        {
          "output_type": "stream",
          "name": "stdout",
          "text": [
            "Skipping blurry or low-res image: 4 (402).jpeg\n",
            "Skipping blurry or low-res image: 4 (460).jpeg\n",
            "Skipping blurry or low-res image: 4 (230).jpeg\n"
          ]
        },
        {
          "output_type": "stream",
          "name": "stderr",
          "text": [
            " 39%|███▉      | 588/1495 [00:01<00:02, 440.13it/s]"
          ]
        },
        {
          "output_type": "stream",
          "name": "stdout",
          "text": [
            "Skipping blurry or low-res image: 4 (398).jpeg\n",
            "Skipping blurry or low-res image: 4 (199).jpeg\n",
            "Skipping blurry or low-res image: 4 (282).jpeg\n",
            "Skipping blurry or low-res image: 4 (455).jpeg\n",
            "Skipping blurry or low-res image: 4 (434).jpeg\n"
          ]
        },
        {
          "output_type": "stream",
          "name": "stderr",
          "text": [
            " 51%|█████▏    | 768/1495 [00:01<00:01, 441.56it/s]"
          ]
        },
        {
          "output_type": "stream",
          "name": "stdout",
          "text": [
            "Skipping blurry or low-res image: 4 (388).jpeg\n",
            "Skipping blurry or low-res image: 4 (517).jpeg\n",
            "Skipping blurry or low-res image: 4 (497).jpeg\n"
          ]
        },
        {
          "output_type": "stream",
          "name": "stderr",
          "text": [
            " 57%|█████▋    | 857/1495 [00:01<00:01, 430.57it/s]"
          ]
        },
        {
          "output_type": "stream",
          "name": "stdout",
          "text": [
            "Skipping blurry or low-res image: 4 (491).jpeg\n",
            "Skipping blurry or low-res image: 4 (454).jpeg\n",
            "Skipping blurry or low-res image: 4 (395).jpeg\n",
            "Skipping blurry or low-res image: 4 (355).jpeg\n",
            "Skipping blurry or low-res image: desktop.ini\n"
          ]
        },
        {
          "output_type": "stream",
          "name": "stderr",
          "text": [
            " 63%|██████▎   | 946/1495 [00:02<00:01, 429.31it/s]"
          ]
        },
        {
          "output_type": "stream",
          "name": "stdout",
          "text": [
            "Skipping blurry or low-res image: 4 (309).jpeg\n",
            "Skipping blurry or low-res image: 4 (510).jpeg\n",
            "Skipping blurry or low-res image: 4 (400).jpeg\n"
          ]
        },
        {
          "output_type": "stream",
          "name": "stderr",
          "text": [
            " 69%|██████▉   | 1036/1495 [00:02<00:01, 436.72it/s]"
          ]
        },
        {
          "output_type": "stream",
          "name": "stdout",
          "text": [
            "Skipping blurry or low-res image: 4 (399).jpeg\n",
            "Skipping blurry or low-res image: 4 (431).jpeg\n"
          ]
        },
        {
          "output_type": "stream",
          "name": "stderr",
          "text": [
            " 78%|███████▊  | 1173/1495 [00:02<00:00, 446.07it/s]"
          ]
        },
        {
          "output_type": "stream",
          "name": "stdout",
          "text": [
            "Skipping blurry or low-res image: 4 (445).jpeg\n",
            "Skipping blurry or low-res image: 4 (239).jpeg\n",
            "Skipping blurry or low-res image: 4 (274).jpeg\n"
          ]
        },
        {
          "output_type": "stream",
          "name": "stderr",
          "text": [
            " 84%|████████▍ | 1259/1495 [00:02<00:00, 348.98it/s]"
          ]
        },
        {
          "output_type": "stream",
          "name": "stdout",
          "text": [
            "Skipping blurry or low-res image: 4 (514).jpeg\n",
            "Skipping blurry or low-res image: 4 (508).jpeg\n",
            "Skipping blurry or low-res image: 4 (468).jpeg\n",
            "Skipping blurry or low-res image: 4 (424).jpeg\n",
            "Skipping blurry or low-res image: 4 (530).jpeg\n"
          ]
        },
        {
          "output_type": "stream",
          "name": "stderr",
          "text": [
            " 91%|█████████ | 1362/1495 [00:03<00:00, 298.68it/s]"
          ]
        },
        {
          "output_type": "stream",
          "name": "stdout",
          "text": [
            "Skipping blurry or low-res image: okuu.m\n",
            "Skipping blurry or low-res image: 4 (141).jpeg\n"
          ]
        },
        {
          "output_type": "stream",
          "name": "stderr",
          "text": [
            " 95%|█████████▌| 1424/1495 [00:03<00:00, 295.02it/s]"
          ]
        },
        {
          "output_type": "stream",
          "name": "stdout",
          "text": [
            "Skipping blurry or low-res image: 4 (401).jpeg\n",
            "Skipping blurry or low-res image: 4 (270).jpeg\n",
            "Skipping blurry or low-res image: 4 (511).jpeg\n",
            "Skipping blurry or low-res image: 4 (124).jpeg\n"
          ]
        },
        {
          "output_type": "stream",
          "name": "stderr",
          "text": [
            "100%|██████████| 1495/1495 [00:03<00:00, 391.98it/s]\n"
          ]
        },
        {
          "output_type": "stream",
          "name": "stdout",
          "text": [
            "Skipping blurry or low-res image: 4 (129).jpeg\n",
            "\n",
            " Processing Category: Non-damaged_highway\n"
          ]
        },
        {
          "output_type": "stream",
          "name": "stderr",
          "text": [
            " 31%|███▏      | 150/478 [00:00<00:00, 392.99it/s]"
          ]
        },
        {
          "output_type": "stream",
          "name": "stdout",
          "text": [
            "Skipping blurry or low-res image: 5 (1011).JPG\n",
            "Skipping blurry or low-res image: 5 (1002).JPG\n"
          ]
        },
        {
          "output_type": "stream",
          "name": "stderr",
          "text": [
            " 51%|█████     | 243/478 [00:00<00:00, 431.49it/s]"
          ]
        },
        {
          "output_type": "stream",
          "name": "stdout",
          "text": [
            "Skipping blurry or low-res image: 5 (695).jpg\n",
            "Skipping blurry or low-res image: 5 (1013).JPG\n",
            "Skipping blurry or low-res image: 5 (1004).JPG\n",
            "Skipping blurry or low-res image: 5 (1136).JPG\n",
            "Skipping blurry or low-res image: 5 (999).JPG\n",
            "Skipping blurry or low-res image: 5 (1003).JPG\n",
            "Skipping blurry or low-res image: 5 (1040).JPG\n",
            "Skipping blurry or low-res image: 5 (1047).JPG\n"
          ]
        },
        {
          "output_type": "stream",
          "name": "stderr",
          "text": [
            " 89%|████████▊ | 424/478 [00:01<00:00, 444.70it/s]"
          ]
        },
        {
          "output_type": "stream",
          "name": "stdout",
          "text": [
            "Skipping blurry or low-res image: 5 (956).JPG\n",
            "Skipping blurry or low-res image: 5 (1099).JPG\n",
            "Skipping blurry or low-res image: okuu.m\n"
          ]
        },
        {
          "output_type": "stream",
          "name": "stderr",
          "text": [
            "100%|██████████| 478/478 [00:01<00:00, 417.31it/s]\n"
          ]
        },
        {
          "output_type": "stream",
          "name": "stdout",
          "text": [
            "\n",
            " Processing Category: Damaged_highway\n"
          ]
        },
        {
          "output_type": "stream",
          "name": "stderr",
          "text": [
            "  6%|▌         | 36/648 [00:00<00:01, 349.32it/s]"
          ]
        },
        {
          "output_type": "stream",
          "name": "stdout",
          "text": [
            "Skipping blurry or low-res image: 3 (145).JPG\n",
            "Skipping blurry or low-res image: 3 (156).JPG\n"
          ]
        },
        {
          "output_type": "stream",
          "name": "stderr",
          "text": [
            " 19%|█▉        | 122/648 [00:00<00:01, 406.08it/s]"
          ]
        },
        {
          "output_type": "stream",
          "name": "stdout",
          "text": [
            "Skipping blurry or low-res image: 3 (137).JPG\n"
          ]
        },
        {
          "output_type": "stream",
          "name": "stderr",
          "text": [
            "\r 25%|██▌       | 164/648 [00:00<00:01, 411.40it/s]"
          ]
        },
        {
          "output_type": "stream",
          "name": "stdout",
          "text": [
            "Skipping blurry or low-res image: 3 (153).JPG\n"
          ]
        },
        {
          "output_type": "stream",
          "name": "stderr",
          "text": [
            " 97%|█████████▋| 631/648 [00:01<00:00, 416.31it/s]"
          ]
        },
        {
          "output_type": "stream",
          "name": "stdout",
          "text": [
            "Skipping blurry or low-res image: 3 (146).JPG\n",
            "Skipping blurry or low-res image: okuu.m\n",
            "Skipping blurry or low-res image: 3 (152).JPG\n"
          ]
        },
        {
          "output_type": "stream",
          "name": "stderr",
          "text": [
            "\r100%|██████████| 648/648 [00:01<00:00, 409.40it/s]\n"
          ]
        },
        {
          "output_type": "stream",
          "name": "stdout",
          "text": [
            "\n",
            " Processing Category: damaged_buildings\n"
          ]
        },
        {
          "output_type": "stream",
          "name": "stderr",
          "text": [
            "  2%|▏         | 8/404 [00:00<00:05, 76.50it/s]"
          ]
        },
        {
          "output_type": "stream",
          "name": "stdout",
          "text": [
            "Skipping blurry or low-res image: 2 (70).jpeg\n",
            "Skipping blurry or low-res image: 2 (14).jpeg\n",
            "Skipping blurry or low-res image: 2 (380).jpeg\n",
            "Skipping blurry or low-res image: 2 (325).jpeg\n",
            "Skipping blurry or low-res image: 2 (80).jpeg\n",
            "Skipping blurry or low-res image: 2 (56).jpeg\n",
            "Skipping blurry or low-res image: 2 (27).jpeg\n"
          ]
        },
        {
          "output_type": "stream",
          "name": "stderr",
          "text": [
            "\r  4%|▍         | 16/404 [00:00<00:05, 75.97it/s]"
          ]
        },
        {
          "output_type": "stream",
          "name": "stdout",
          "text": [
            "Skipping blurry or low-res image: 2 (326).jpeg\n"
          ]
        },
        {
          "output_type": "stream",
          "name": "stderr",
          "text": [
            "\r  6%|▌         | 24/404 [00:00<00:05, 73.92it/s]"
          ]
        },
        {
          "output_type": "stream",
          "name": "stdout",
          "text": [
            "Skipping blurry or low-res image: 2 (398).jpeg\n",
            "Skipping blurry or low-res image: 2 (342).jpeg\n",
            "Skipping blurry or low-res image: 2 (46).jpeg\n",
            "Skipping blurry or low-res image: 2 (42).jpeg\n",
            "Skipping blurry or low-res image: 2 (336).jpeg\n",
            "Skipping blurry or low-res image: 2 (411).jpeg\n",
            "Skipping blurry or low-res image: 2 (2).jpg\n"
          ]
        },
        {
          "output_type": "stream",
          "name": "stderr",
          "text": [
            " 10%|▉         | 40/404 [00:00<00:05, 71.41it/s]"
          ]
        },
        {
          "output_type": "stream",
          "name": "stdout",
          "text": [
            "Skipping blurry or low-res image: 2 (270).jpeg\n",
            "Skipping blurry or low-res image: 2 (322).jpeg\n",
            "Skipping blurry or low-res image: 2 (385).jpeg\n",
            "Skipping blurry or low-res image: 2 (10).jpeg\n",
            "Skipping blurry or low-res image: 2 (178).jpeg\n",
            "Skipping blurry or low-res image: 2 (432).jpeg\n",
            "Skipping blurry or low-res image: 2 (340).jpeg\n",
            "Skipping blurry or low-res image: 2 (168).jpeg\n"
          ]
        },
        {
          "output_type": "stream",
          "name": "stderr",
          "text": [
            " 15%|█▌        | 61/404 [00:00<00:03, 87.58it/s]"
          ]
        },
        {
          "output_type": "stream",
          "name": "stdout",
          "text": [
            "Skipping blurry or low-res image: 2 (76).jpeg\n",
            "Skipping blurry or low-res image: 2 (349).jpeg\n",
            "Skipping blurry or low-res image: 2 (144).jpeg\n",
            "Skipping blurry or low-res image: 2 (257).jpeg\n",
            "Skipping blurry or low-res image: 2 (202).jpeg\n",
            "Skipping blurry or low-res image: 2 (423).jpeg\n",
            "Skipping blurry or low-res image: 2 (238).jpeg\n"
          ]
        },
        {
          "output_type": "stream",
          "name": "stderr",
          "text": [
            "\r 17%|█▋        | 70/404 [00:00<00:03, 84.76it/s]"
          ]
        },
        {
          "output_type": "stream",
          "name": "stdout",
          "text": [
            "Skipping blurry or low-res image: 2 (273).jpeg\n"
          ]
        },
        {
          "output_type": "stream",
          "name": "stderr",
          "text": [
            "\r 20%|█▉        | 79/404 [00:01<00:04, 77.32it/s]"
          ]
        },
        {
          "output_type": "stream",
          "name": "stdout",
          "text": [
            "Skipping blurry or low-res image: 2 (68).jpeg\n",
            "Skipping blurry or low-res image: 2 (171).jpeg\n",
            "Skipping blurry or low-res image: 2 (12).jpeg\n",
            "Skipping blurry or low-res image: 2 (4).jpg\n",
            "Skipping blurry or low-res image: 2 (151).jpeg\n",
            "Skipping blurry or low-res image: 2 (234).jpeg\n"
          ]
        },
        {
          "output_type": "stream",
          "name": "stderr",
          "text": [
            "\r 22%|██▏       | 89/404 [00:01<00:03, 81.82it/s]"
          ]
        },
        {
          "output_type": "stream",
          "name": "stdout",
          "text": [
            "Skipping blurry or low-res image: 2 (412).jpeg\n",
            "Skipping blurry or low-res image: 2 (265).jpeg\n",
            "Skipping blurry or low-res image: 2 (213).jpeg\n",
            "Skipping blurry or low-res image: 2 (241).jpeg\n",
            "Skipping blurry or low-res image: 2 (181).jpeg\n"
          ]
        },
        {
          "output_type": "stream",
          "name": "stderr",
          "text": [
            "\r 25%|██▌       | 102/404 [00:01<00:03, 92.05it/s]"
          ]
        },
        {
          "output_type": "stream",
          "name": "stdout",
          "text": [
            "Skipping blurry or low-res image: 2 (200).jpeg\n",
            "Skipping blurry or low-res image: 2 (5).jpeg\n",
            "Skipping blurry or low-res image: 2 (299).jpeg\n",
            "Skipping blurry or low-res image: 2 (40).jpeg\n",
            "Skipping blurry or low-res image: 2 (323).jpeg\n",
            "Skipping blurry or low-res image: 2 (199).jpeg\n",
            "Skipping blurry or low-res image: 2 (5).jpg\n",
            "Skipping blurry or low-res image: 2 (284).jpeg\n",
            "Skipping blurry or low-res image: 2 (311).jpeg\n"
          ]
        },
        {
          "output_type": "stream",
          "name": "stderr",
          "text": [
            "\r 28%|██▊       | 112/404 [00:01<00:03, 84.06it/s]"
          ]
        },
        {
          "output_type": "stream",
          "name": "stdout",
          "text": [
            "Skipping blurry or low-res image: 2 (54).jpeg\n",
            "Skipping blurry or low-res image: 2 (341).jpeg\n",
            "Skipping blurry or low-res image: 2 (150).jpeg\n",
            "Skipping blurry or low-res image: 2 (7).jpeg\n",
            "Skipping blurry or low-res image: 2 (130).jpeg\n"
          ]
        },
        {
          "output_type": "stream",
          "name": "stderr",
          "text": [
            " 35%|███▍      | 141/404 [00:01<00:03, 85.28it/s]"
          ]
        },
        {
          "output_type": "stream",
          "name": "stdout",
          "text": [
            "Skipping blurry or low-res image: 2 (435).jpeg\n",
            "Skipping blurry or low-res image: 2 (59).jpeg\n",
            "Skipping blurry or low-res image: 2 (381).jpeg\n",
            "Skipping blurry or low-res image: 2 (201).jpeg\n",
            "Skipping blurry or low-res image: 2 (147).jpeg\n",
            "Skipping blurry or low-res image: 2 (405).jpeg\n",
            "Skipping blurry or low-res image: 2 (328).jpeg\n",
            "Skipping blurry or low-res image: 2 (434).jpeg\n",
            "Skipping blurry or low-res image: 2 (240).jpeg\n",
            "Skipping blurry or low-res image: 2 (329).jpeg\n"
          ]
        },
        {
          "output_type": "stream",
          "name": "stderr",
          "text": [
            " 39%|███▉      | 159/404 [00:02<00:03, 76.06it/s]"
          ]
        },
        {
          "output_type": "stream",
          "name": "stdout",
          "text": [
            "Skipping blurry or low-res image: 2 (362).jpeg\n",
            "Skipping blurry or low-res image: 2 (324).jpeg\n",
            "Skipping blurry or low-res image: 2 (1).jpg\n",
            "Skipping blurry or low-res image: 2 (276).jpeg\n"
          ]
        },
        {
          "output_type": "stream",
          "name": "stderr",
          "text": [
            "\r 42%|████▏     | 169/404 [00:02<00:02, 79.79it/s]"
          ]
        },
        {
          "output_type": "stream",
          "name": "stdout",
          "text": [
            "Skipping blurry or low-res image: 2 (283).jpeg\n",
            "Skipping blurry or low-res image: 2 (53).jpeg\n",
            "Skipping blurry or low-res image: 2 (245).jpeg\n"
          ]
        },
        {
          "output_type": "stream",
          "name": "stderr",
          "text": [
            " 49%|████▉     | 197/404 [00:02<00:02, 74.53it/s]"
          ]
        },
        {
          "output_type": "stream",
          "name": "stdout",
          "text": [
            "Skipping blurry or low-res image: 2 (422).jpeg\n",
            "Skipping blurry or low-res image: 2 (55).jpeg\n",
            "Skipping blurry or low-res image: 2 (285).jpeg\n",
            "Skipping blurry or low-res image: 2 (399).jpeg\n",
            "Skipping blurry or low-res image: 2 (390).jpeg\n"
          ]
        },
        {
          "output_type": "stream",
          "name": "stderr",
          "text": [
            " 53%|█████▎    | 214/404 [00:02<00:02, 77.89it/s]"
          ]
        },
        {
          "output_type": "stream",
          "name": "stdout",
          "text": [
            "Skipping blurry or low-res image: 2 (49).jpeg\n",
            "Skipping blurry or low-res image: 2 (383).jpeg\n",
            "Skipping blurry or low-res image: 2 (258).jpeg\n",
            "Skipping blurry or low-res image: 2 (316).jpeg\n",
            "Skipping blurry or low-res image: 2 (239).jpeg\n",
            "Skipping blurry or low-res image: 2 (280).jpeg\n",
            "Skipping blurry or low-res image: 2 (149).jpeg\n",
            "Skipping blurry or low-res image: 2 (262).jpeg\n"
          ]
        },
        {
          "output_type": "stream",
          "name": "stderr",
          "text": [
            " 59%|█████▉    | 239/404 [00:03<00:02, 68.90it/s]"
          ]
        },
        {
          "output_type": "stream",
          "name": "stdout",
          "text": [
            "Skipping blurry or low-res image: 2 (19).jpeg\n",
            "Skipping blurry or low-res image: 2 (327).jpeg\n",
            "Skipping blurry or low-res image: 2 (392).jpeg\n",
            "Skipping blurry or low-res image: 2 (295).jpeg\n",
            "Skipping blurry or low-res image: 2 (121).jpeg\n"
          ]
        },
        {
          "output_type": "stream",
          "name": "stderr",
          "text": [
            "\r 61%|██████    | 247/404 [00:03<00:02, 68.38it/s]"
          ]
        },
        {
          "output_type": "stream",
          "name": "stdout",
          "text": [
            "Skipping blurry or low-res image: 2 (74).jpeg\n",
            "Skipping blurry or low-res image: 2 (8).JPG\n",
            "Skipping blurry or low-res image: 2 (243).jpeg\n",
            "Skipping blurry or low-res image: 2 (3).jpg\n",
            "Skipping blurry or low-res image: 2 (246).jpeg\n"
          ]
        },
        {
          "output_type": "stream",
          "name": "stderr",
          "text": [
            " 65%|██████▍   | 261/404 [00:03<00:02, 56.72it/s]"
          ]
        },
        {
          "output_type": "stream",
          "name": "stdout",
          "text": [
            "Skipping blurry or low-res image: 2 (400).jpeg\n",
            "Skipping blurry or low-res image: 2 (131).jpeg\n"
          ]
        },
        {
          "output_type": "stream",
          "name": "stderr",
          "text": [
            "\r 66%|██████▌   | 267/404 [00:03<00:03, 37.26it/s]"
          ]
        },
        {
          "output_type": "stream",
          "name": "stdout",
          "text": [
            "Skipping blurry or low-res image: 2 (426).jpeg\n",
            "Skipping blurry or low-res image: 2 (87).jpeg\n",
            "Skipping blurry or low-res image: 2 (332).jpeg\n"
          ]
        },
        {
          "output_type": "stream",
          "name": "stderr",
          "text": [
            " 70%|███████   | 283/404 [00:04<00:03, 32.08it/s]"
          ]
        },
        {
          "output_type": "stream",
          "name": "stdout",
          "text": [
            "Skipping blurry or low-res image: 2 (16).jpeg\n",
            "Skipping blurry or low-res image: 2 (29).jpeg\n",
            "Skipping blurry or low-res image: 2 (235).jpeg\n",
            "Skipping blurry or low-res image: 2 (193).jpeg\n",
            "Skipping blurry or low-res image: 2 (352).jpeg\n"
          ]
        },
        {
          "output_type": "stream",
          "name": "stderr",
          "text": [
            "\r 72%|███████▏  | 291/404 [00:04<00:02, 39.65it/s]"
          ]
        },
        {
          "output_type": "stream",
          "name": "stdout",
          "text": [
            "Skipping blurry or low-res image: 2 (50).jpeg\n",
            "Skipping blurry or low-res image: 2 (66).jpeg\n",
            "Skipping blurry or low-res image: 2 (272).jpeg\n",
            "Skipping blurry or low-res image: 2 (41).jpeg\n",
            "Skipping blurry or low-res image: 2 (3).jpeg\n",
            "Skipping blurry or low-res image: 2 (244).jpeg\n",
            "Skipping blurry or low-res image: 2 (278).jpeg\n"
          ]
        },
        {
          "output_type": "stream",
          "name": "stderr",
          "text": [
            "\r 74%|███████▎  | 297/404 [00:04<00:02, 40.11it/s]"
          ]
        },
        {
          "output_type": "stream",
          "name": "stdout",
          "text": [
            "Skipping blurry or low-res image: 2 (73).jpeg\n",
            "Skipping blurry or low-res image: 2 (125).jpeg\n",
            "Skipping blurry or low-res image: 2 (176).jpeg\n"
          ]
        },
        {
          "output_type": "stream",
          "name": "stderr",
          "text": [
            " 76%|███████▌  | 306/404 [00:05<00:04, 20.78it/s]"
          ]
        },
        {
          "output_type": "stream",
          "name": "stdout",
          "text": [
            "Skipping blurry or low-res image: 2 (79).jpeg\n",
            "Skipping blurry or low-res image: 2 (172).jpeg\n"
          ]
        },
        {
          "output_type": "stream",
          "name": "stderr",
          "text": [
            " 79%|███████▊  | 318/404 [00:05<00:02, 30.71it/s]"
          ]
        },
        {
          "output_type": "stream",
          "name": "stdout",
          "text": [
            "Skipping blurry or low-res image: 2 (126).jpeg\n",
            "Skipping blurry or low-res image: 2 (128).jpeg\n",
            "Skipping blurry or low-res image: 2 (249).jpeg\n"
          ]
        },
        {
          "output_type": "stream",
          "name": "stderr",
          "text": [
            " 82%|████████▏ | 330/404 [00:06<00:02, 35.78it/s]"
          ]
        },
        {
          "output_type": "stream",
          "name": "stdout",
          "text": [
            "Skipping blurry or low-res image: 2 (267).jpeg\n",
            "Skipping blurry or low-res image: 2 (17).jpeg\n"
          ]
        },
        {
          "output_type": "stream",
          "name": "stderr",
          "text": [
            "\r 83%|████████▎ | 335/404 [00:06<00:02, 25.27it/s]"
          ]
        },
        {
          "output_type": "stream",
          "name": "stdout",
          "text": [
            "Skipping blurry or low-res image: 2 (259).jpeg\n",
            "Skipping blurry or low-res image: 2 (416).jpeg\n"
          ]
        },
        {
          "output_type": "stream",
          "name": "stderr",
          "text": [
            " 85%|████████▌ | 345/404 [00:06<00:02, 29.01it/s]"
          ]
        },
        {
          "output_type": "stream",
          "name": "stdout",
          "text": [
            "Skipping blurry or low-res image: 2 (229).jpeg\n",
            "Skipping blurry or low-res image: 2 (264).jpeg\n",
            "Skipping blurry or low-res image: 2 (58).jpeg\n",
            "Skipping blurry or low-res image: 2 (48).jpeg\n",
            "Skipping blurry or low-res image: 2 (315).jpeg\n",
            "Skipping blurry or low-res image: 2 (61).jpeg\n"
          ]
        },
        {
          "output_type": "stream",
          "name": "stderr",
          "text": [
            " 91%|█████████ | 367/404 [00:06<00:00, 57.30it/s]"
          ]
        },
        {
          "output_type": "stream",
          "name": "stdout",
          "text": [
            "Skipping blurry or low-res image: 2 (205).jpeg\n",
            "Skipping blurry or low-res image: 2 (303).jpeg\n",
            "Skipping blurry or low-res image: 2 (415).jpeg\n",
            "Skipping blurry or low-res image: 2 (286).jpeg\n",
            "Skipping blurry or low-res image: 2 (57).jpeg\n",
            "Skipping blurry or low-res image: 2 (35).jpeg\n",
            "Skipping blurry or low-res image: 2 (317).jpeg\n",
            "Skipping blurry or low-res image: 2 (129).jpeg\n",
            "Skipping blurry or low-res image: 2 (365).jpeg\n",
            "Skipping blurry or low-res image: 2 (106).jpeg\n",
            "Skipping blurry or low-res image: 2 (418).jpeg\n",
            "Skipping blurry or low-res image: 2 (251).jpeg\n"
          ]
        },
        {
          "output_type": "stream",
          "name": "stderr",
          "text": [
            " 96%|█████████▌| 388/404 [00:07<00:00, 75.53it/s]"
          ]
        },
        {
          "output_type": "stream",
          "name": "stdout",
          "text": [
            "Skipping blurry or low-res image: 2 (287).jpeg\n",
            "Skipping blurry or low-res image: 2 (263).jpeg\n",
            "Skipping blurry or low-res image: 2 (367).jpeg\n",
            "Skipping blurry or low-res image: 2 (389).jpeg\n",
            "Skipping blurry or low-res image: 2 (366).jpeg\n",
            "Skipping blurry or low-res image: 2 (63).jpeg\n",
            "Skipping blurry or low-res image: 2 (394).jpeg\n",
            "Skipping blurry or low-res image: 2 (364).jpeg\n",
            "Skipping blurry or low-res image: 2 (228).jpeg\n",
            "Skipping blurry or low-res image: 2 (221).jpeg\n",
            "Skipping blurry or low-res image: 2 (194).jpeg\n"
          ]
        },
        {
          "output_type": "stream",
          "name": "stderr",
          "text": [
            "100%|██████████| 404/404 [00:07<00:00, 54.84it/s]\n"
          ]
        },
        {
          "output_type": "stream",
          "name": "stdout",
          "text": [
            "Skipping blurry or low-res image: 2 (242).jpeg\n",
            "Skipping blurry or low-res image: 2 (309).jpeg\n",
            "Skipping blurry or low-res image: 2 (305).jpeg\n",
            "Skipping blurry or low-res image: 2 (321).jpeg\n",
            "\n",
            " Processing Category: debris\n"
          ]
        },
        {
          "output_type": "stream",
          "name": "stderr",
          "text": [
            "\r  0%|          | 0/100 [00:00<?, ?it/s]"
          ]
        },
        {
          "output_type": "stream",
          "name": "stdout",
          "text": [
            "Skipping blurry or low-res image: 1 (36).JPG\n"
          ]
        },
        {
          "output_type": "stream",
          "name": "stderr",
          "text": [
            "100%|██████████| 100/100 [00:00<00:00, 261.31it/s]\n"
          ]
        },
        {
          "output_type": "stream",
          "name": "stdout",
          "text": [
            "Skipping blurry or low-res image: 1 (35).JPG\n",
            "\n",
            " Processing Category: Damaged_building\n"
          ]
        },
        {
          "output_type": "stream",
          "name": "stderr",
          "text": [
            "  9%|▉         | 9/100 [00:00<00:01, 85.37it/s]"
          ]
        },
        {
          "output_type": "stream",
          "name": "stdout",
          "text": [
            "Skipping blurry or low-res image: 2 (445).jpeg\n",
            "Skipping blurry or low-res image: 2 (457).jpeg\n",
            "Skipping blurry or low-res image: 2 (496).jpeg\n"
          ]
        },
        {
          "output_type": "stream",
          "name": "stderr",
          "text": [
            "\r 18%|█▊        | 18/100 [00:00<00:00, 86.07it/s]"
          ]
        },
        {
          "output_type": "stream",
          "name": "stdout",
          "text": [
            "Skipping blurry or low-res image: 2 (485).jpeg\n",
            "Skipping blurry or low-res image: 2 (443).jpeg\n",
            "Skipping blurry or low-res image: 2 (530).jpeg\n"
          ]
        },
        {
          "output_type": "stream",
          "name": "stderr",
          "text": [
            "\r 27%|██▋       | 27/100 [00:00<00:00, 84.62it/s]"
          ]
        },
        {
          "output_type": "stream",
          "name": "stdout",
          "text": [
            "Skipping blurry or low-res image: 2 (478).jpeg\n",
            "Skipping blurry or low-res image: 2 (464).jpeg\n",
            "Skipping blurry or low-res image: 2 (483).jpeg\n",
            "Skipping blurry or low-res image: 2 (463).jpeg\n",
            "Skipping blurry or low-res image: 2 (444).jpeg\n"
          ]
        },
        {
          "output_type": "stream",
          "name": "stderr",
          "text": [
            "\r 36%|███▌      | 36/100 [00:00<00:00, 85.96it/s]"
          ]
        },
        {
          "output_type": "stream",
          "name": "stdout",
          "text": [
            "Skipping blurry or low-res image: 2 (467).jpeg\n",
            "Skipping blurry or low-res image: 2 (500).jpeg\n",
            "Skipping blurry or low-res image: 2 (480).jpeg\n",
            "Skipping blurry or low-res image: 2 (450).jpeg\n"
          ]
        },
        {
          "output_type": "stream",
          "name": "stderr",
          "text": [
            "\r 45%|████▌     | 45/100 [00:00<00:00, 86.37it/s]"
          ]
        },
        {
          "output_type": "stream",
          "name": "stdout",
          "text": [
            "Skipping blurry or low-res image: 2 (437).jpeg\n",
            "Skipping blurry or low-res image: 2 (456).jpeg\n"
          ]
        },
        {
          "output_type": "stream",
          "name": "stderr",
          "text": [
            "\r 56%|█████▌    | 56/100 [00:00<00:00, 91.01it/s]"
          ]
        },
        {
          "output_type": "stream",
          "name": "stdout",
          "text": [
            "Skipping blurry or low-res image: 2 (479).jpeg\n",
            "Skipping blurry or low-res image: 2 (487).jpeg\n",
            "Skipping blurry or low-res image: 2 (525).jpeg\n",
            "Skipping blurry or low-res image: 2 (441).jpeg\n",
            "Skipping blurry or low-res image: 2 (442).jpeg\n",
            "Skipping blurry or low-res image: 2 (461).jpeg\n",
            "Skipping blurry or low-res image: 2 (486).jpeg\n",
            "Skipping blurry or low-res image: 2 (499).jpeg\n",
            "Skipping blurry or low-res image: 2 (484).jpeg\n"
          ]
        },
        {
          "output_type": "stream",
          "name": "stderr",
          "text": [
            " 75%|███████▌  | 75/100 [00:00<00:00, 86.38it/s]"
          ]
        },
        {
          "output_type": "stream",
          "name": "stdout",
          "text": [
            "Skipping blurry or low-res image: 2 (436).jpeg\n",
            "Skipping blurry or low-res image: 2 (474).jpeg\n",
            "Skipping blurry or low-res image: 2 (526).jpeg\n"
          ]
        },
        {
          "output_type": "stream",
          "name": "stderr",
          "text": [
            "\r 84%|████████▍ | 84/100 [00:00<00:00, 86.27it/s]"
          ]
        },
        {
          "output_type": "stream",
          "name": "stdout",
          "text": [
            "Skipping blurry or low-res image: 2 (495).jpeg\n",
            "Skipping blurry or low-res image: 2 (529).jpeg\n",
            "Skipping blurry or low-res image: 2 (452).jpeg\n",
            "Skipping blurry or low-res image: 2 (455).jpeg\n",
            "Skipping blurry or low-res image: 2 (517).jpeg\n"
          ]
        },
        {
          "output_type": "stream",
          "name": "stderr",
          "text": [
            "\r 95%|█████████▌| 95/100 [00:01<00:00, 90.91it/s]"
          ]
        },
        {
          "output_type": "stream",
          "name": "stdout",
          "text": [
            "Skipping blurry or low-res image: 2 (492).jpeg\n",
            "Skipping blurry or low-res image: 2 (475).jpeg\n",
            "Skipping blurry or low-res image: 2 (454).jpeg\n",
            "Skipping blurry or low-res image: 2 (524).jpeg\n",
            "Skipping blurry or low-res image: 2 (477).jpeg\n",
            "Skipping blurry or low-res image: 2 (490).jpeg\n"
          ]
        },
        {
          "output_type": "stream",
          "name": "stderr",
          "text": [
            "\r100%|██████████| 100/100 [00:01<00:00, 88.45it/s]\n"
          ]
        },
        {
          "output_type": "stream",
          "name": "stdout",
          "text": [
            "Skipping blurry or low-res image: 2 (497).jpeg\n",
            "Skipping blurry or low-res image: 2 (491).jpeg\n",
            "\n",
            " Processing Category: Non-damaged_building\n"
          ]
        },
        {
          "output_type": "stream",
          "name": "stderr",
          "text": [
            "\r  0%|          | 0/200 [00:00<?, ?it/s]"
          ]
        },
        {
          "output_type": "stream",
          "name": "stdout",
          "text": [
            "Skipping blurry or low-res image: 4 (19).jpg\n",
            "Skipping blurry or low-res image: 4 (88).jpg\n"
          ]
        },
        {
          "output_type": "stream",
          "name": "stderr",
          "text": [
            "\r 23%|██▎       | 46/200 [00:00<00:00, 453.23it/s]"
          ]
        },
        {
          "output_type": "stream",
          "name": "stdout",
          "text": [
            "Skipping blurry or low-res image: 4 (73).jpeg\n",
            "Skipping blurry or low-res image: 4 (21).jpeg\n",
            "Skipping blurry or low-res image: 4 (72).jpg\n",
            "Skipping blurry or low-res image: 4 (23).jpeg\n",
            "Skipping blurry or low-res image: 4 (38).jpeg\n",
            "Skipping blurry or low-res image: 4 (74).jpeg\n",
            "Skipping blurry or low-res image: 4 (72).jpeg\n",
            "Skipping blurry or low-res image: 4 (29).jpeg\n"
          ]
        },
        {
          "output_type": "stream",
          "name": "stderr",
          "text": [
            "\r 46%|████▌     | 92/200 [00:00<00:00, 440.37it/s]"
          ]
        },
        {
          "output_type": "stream",
          "name": "stdout",
          "text": [
            "Skipping blurry or low-res image: 4 (62).jpeg\n",
            "Skipping blurry or low-res image: 4 (10).jpeg\n",
            "Skipping blurry or low-res image: 4 (9).jpg\n"
          ]
        },
        {
          "output_type": "stream",
          "name": "stderr",
          "text": [
            "\r 68%|██████▊   | 137/200 [00:00<00:00, 440.35it/s]"
          ]
        },
        {
          "output_type": "stream",
          "name": "stdout",
          "text": [
            "Skipping blurry or low-res image: 4 (39).jpeg\n",
            "Skipping blurry or low-res image: 4 (91).jpeg\n",
            "Skipping blurry or low-res image: 4 (48).jpeg\n"
          ]
        },
        {
          "output_type": "stream",
          "name": "stderr",
          "text": [
            "100%|██████████| 200/200 [00:00<00:00, 440.44it/s]\n"
          ]
        },
        {
          "output_type": "stream",
          "name": "stdout",
          "text": [
            "\n",
            " Processing Category: Non-damaged_highway\n"
          ]
        },
        {
          "output_type": "stream",
          "name": "stderr",
          "text": [
            "100%|██████████| 100/100 [00:00<00:00, 412.73it/s]\n"
          ]
        },
        {
          "output_type": "stream",
          "name": "stdout",
          "text": [
            "\n",
            " Processing Category: Damaged_highway\n"
          ]
        },
        {
          "output_type": "stream",
          "name": "stderr",
          "text": [
            "100%|██████████| 100/100 [00:00<00:00, 402.91it/s]"
          ]
        },
        {
          "output_type": "stream",
          "name": "stdout",
          "text": [
            "All images resized and normalized successfully!\n"
          ]
        },
        {
          "output_type": "stream",
          "name": "stderr",
          "text": [
            "\n"
          ]
        }
      ],
      "source": [
        "# Function call for both Train & Test data\n",
        "preprocess_images(train_dir, output_train_dir)\n",
        "preprocess_images(test_dir, output_test_dir)\n",
        "\n",
        "print(\"All images resized and normalized successfully!\")\n"
      ]
    },
    {
      "cell_type": "code",
      "execution_count": 15,
      "id": "f572d13e-2e79-4afd-bf5a-ba6025b3ef3c",
      "metadata": {
        "id": "f572d13e-2e79-4afd-bf5a-ba6025b3ef3c",
        "colab": {
          "base_uri": "https://localhost:8080/"
        },
        "outputId": "d635aa0e-32fd-4d52-9ce3-9ef593b25369"
      },
      "outputs": [
        {
          "output_type": "execute_result",
          "data": {
            "text/plain": [
              "(['debris',\n",
              "  'Non-damaged_building',\n",
              "  'Non-damaged_highway',\n",
              "  'Damaged_highway',\n",
              "  'damaged_buildings'],\n",
              " ['debris',\n",
              "  'Damaged_building',\n",
              "  'Non-damaged_building',\n",
              "  'Non-damaged_highway',\n",
              "  'Damaged_highway'])"
            ]
          },
          "metadata": {},
          "execution_count": 15
        }
      ],
      "source": [
        "# check folder present in Processed Train and Test folder\n",
        "os.listdir('Processed_Train'),os.listdir('Processed_Test')"
      ]
    },
    {
      "cell_type": "markdown",
      "id": "3276e61c-17ef-40f5-83a5-c0f01253d419",
      "metadata": {
        "id": "3276e61c-17ef-40f5-83a5-c0f01253d419"
      },
      "source": [
        "# MobileNetV2 integration, rotation augmentation & 5-Fold Cross-Validation\n",
        "\n",
        "**What this addition does:**\n",
        "\n",
        "1. Import necessary libraries (TensorFlow, sklearn, etc.).\n",
        "2. Build a dataframe of image filepaths and labels (auto-detect classes from subfolders).\n",
        "3. Prepare data augmentation including rotation (using ImageDataGenerator).\n",
        "4. Run 5-fold stratified cross-validation using StratifiedKFold.\n",
        "5. Build and train a MobileNetV2 transfer-learning model for each fold and save best weights.\n",
        "\n",
        "> Edit the dataset_dir variable in the code cell if your dataset path differs."
      ]
    },
    {
      "cell_type": "code",
      "execution_count": 16,
      "id": "75241b1a-d2ec-4f6c-92fc-47b54b7b75d1",
      "metadata": {
        "id": "75241b1a-d2ec-4f6c-92fc-47b54b7b75d1",
        "colab": {
          "base_uri": "https://localhost:8080/"
        },
        "outputId": "9d47b60a-c973-4db5-dce3-b19c1f5a9fad"
      },
      "outputs": [
        {
          "output_type": "stream",
          "name": "stdout",
          "text": [
            "TensorFlow version: 2.19.0\n",
            "GPU available: [PhysicalDevice(name='/physical_device:GPU:0', device_type='GPU')]\n"
          ]
        }
      ],
      "source": [
        "# 1) Imports and environment check\n",
        "import os\n",
        "from pathlib import Path\n",
        "import math\n",
        "import random\n",
        "import numpy as np\n",
        "import pandas as pd\n",
        "import matplotlib.pyplot as plt\n",
        "import tensorflow as tf\n",
        "from tensorflow import keras\n",
        "from tensorflow.keras import layers, models, callbacks\n",
        "from tensorflow.keras.preprocessing.image import ImageDataGenerator\n",
        "from sklearn.model_selection import StratifiedKFold\n",
        "from sklearn.metrics import classification_report, confusion_matrix, accuracy_score\n",
        "\n",
        "print('TensorFlow version:', tf.__version__)\n",
        "print('GPU available:', tf.config.list_physical_devices('GPU'))\n"
      ]
    },
    {
      "cell_type": "code",
      "execution_count": 17,
      "id": "86435391-e2f2-4443-8ee8-53c77efd8ff0",
      "metadata": {
        "id": "86435391-e2f2-4443-8ee8-53c77efd8ff0",
        "colab": {
          "base_uri": "https://localhost:8080/",
          "height": 260
        },
        "outputId": "37037b22-1fff-46b2-a888-3ada18416666"
      },
      "outputs": [
        {
          "output_type": "stream",
          "name": "stdout",
          "text": [
            "Using dataset_dir = dataset_extracted/train\n",
            "Detected classes: ['Damaged_highway', 'Non-damaged_building', 'Non-damaged_highway', 'damaged_buildings', 'debris']\n",
            "Total images found: 3393\n"
          ]
        },
        {
          "output_type": "execute_result",
          "data": {
            "text/plain": [
              "                                            filepath            label\n",
              "0  /content/dataset_extracted/train/Damaged_highw...  Damaged_highway\n",
              "1  /content/dataset_extracted/train/Damaged_highw...  Damaged_highway\n",
              "2  /content/dataset_extracted/train/Damaged_highw...  Damaged_highway\n",
              "3  /content/dataset_extracted/train/Damaged_highw...  Damaged_highway\n",
              "4  /content/dataset_extracted/train/Damaged_highw...  Damaged_highway"
            ],
            "text/html": [
              "\n",
              "  <div id=\"df-16c30e46-8302-46c4-93f7-d93705784b8a\" class=\"colab-df-container\">\n",
              "    <div>\n",
              "<style scoped>\n",
              "    .dataframe tbody tr th:only-of-type {\n",
              "        vertical-align: middle;\n",
              "    }\n",
              "\n",
              "    .dataframe tbody tr th {\n",
              "        vertical-align: top;\n",
              "    }\n",
              "\n",
              "    .dataframe thead th {\n",
              "        text-align: right;\n",
              "    }\n",
              "</style>\n",
              "<table border=\"1\" class=\"dataframe\">\n",
              "  <thead>\n",
              "    <tr style=\"text-align: right;\">\n",
              "      <th></th>\n",
              "      <th>filepath</th>\n",
              "      <th>label</th>\n",
              "    </tr>\n",
              "  </thead>\n",
              "  <tbody>\n",
              "    <tr>\n",
              "      <th>0</th>\n",
              "      <td>/content/dataset_extracted/train/Damaged_highw...</td>\n",
              "      <td>Damaged_highway</td>\n",
              "    </tr>\n",
              "    <tr>\n",
              "      <th>1</th>\n",
              "      <td>/content/dataset_extracted/train/Damaged_highw...</td>\n",
              "      <td>Damaged_highway</td>\n",
              "    </tr>\n",
              "    <tr>\n",
              "      <th>2</th>\n",
              "      <td>/content/dataset_extracted/train/Damaged_highw...</td>\n",
              "      <td>Damaged_highway</td>\n",
              "    </tr>\n",
              "    <tr>\n",
              "      <th>3</th>\n",
              "      <td>/content/dataset_extracted/train/Damaged_highw...</td>\n",
              "      <td>Damaged_highway</td>\n",
              "    </tr>\n",
              "    <tr>\n",
              "      <th>4</th>\n",
              "      <td>/content/dataset_extracted/train/Damaged_highw...</td>\n",
              "      <td>Damaged_highway</td>\n",
              "    </tr>\n",
              "  </tbody>\n",
              "</table>\n",
              "</div>\n",
              "    <div class=\"colab-df-buttons\">\n",
              "\n",
              "  <div class=\"colab-df-container\">\n",
              "    <button class=\"colab-df-convert\" onclick=\"convertToInteractive('df-16c30e46-8302-46c4-93f7-d93705784b8a')\"\n",
              "            title=\"Convert this dataframe to an interactive table.\"\n",
              "            style=\"display:none;\">\n",
              "\n",
              "  <svg xmlns=\"http://www.w3.org/2000/svg\" height=\"24px\" viewBox=\"0 -960 960 960\">\n",
              "    <path d=\"M120-120v-720h720v720H120Zm60-500h600v-160H180v160Zm220 220h160v-160H400v160Zm0 220h160v-160H400v160ZM180-400h160v-160H180v160Zm440 0h160v-160H620v160ZM180-180h160v-160H180v160Zm440 0h160v-160H620v160Z\"/>\n",
              "  </svg>\n",
              "    </button>\n",
              "\n",
              "  <style>\n",
              "    .colab-df-container {\n",
              "      display:flex;\n",
              "      gap: 12px;\n",
              "    }\n",
              "\n",
              "    .colab-df-convert {\n",
              "      background-color: #E8F0FE;\n",
              "      border: none;\n",
              "      border-radius: 50%;\n",
              "      cursor: pointer;\n",
              "      display: none;\n",
              "      fill: #1967D2;\n",
              "      height: 32px;\n",
              "      padding: 0 0 0 0;\n",
              "      width: 32px;\n",
              "    }\n",
              "\n",
              "    .colab-df-convert:hover {\n",
              "      background-color: #E2EBFA;\n",
              "      box-shadow: 0px 1px 2px rgba(60, 64, 67, 0.3), 0px 1px 3px 1px rgba(60, 64, 67, 0.15);\n",
              "      fill: #174EA6;\n",
              "    }\n",
              "\n",
              "    .colab-df-buttons div {\n",
              "      margin-bottom: 4px;\n",
              "    }\n",
              "\n",
              "    [theme=dark] .colab-df-convert {\n",
              "      background-color: #3B4455;\n",
              "      fill: #D2E3FC;\n",
              "    }\n",
              "\n",
              "    [theme=dark] .colab-df-convert:hover {\n",
              "      background-color: #434B5C;\n",
              "      box-shadow: 0px 1px 3px 1px rgba(0, 0, 0, 0.15);\n",
              "      filter: drop-shadow(0px 1px 2px rgba(0, 0, 0, 0.3));\n",
              "      fill: #FFFFFF;\n",
              "    }\n",
              "  </style>\n",
              "\n",
              "    <script>\n",
              "      const buttonEl =\n",
              "        document.querySelector('#df-16c30e46-8302-46c4-93f7-d93705784b8a button.colab-df-convert');\n",
              "      buttonEl.style.display =\n",
              "        google.colab.kernel.accessAllowed ? 'block' : 'none';\n",
              "\n",
              "      async function convertToInteractive(key) {\n",
              "        const element = document.querySelector('#df-16c30e46-8302-46c4-93f7-d93705784b8a');\n",
              "        const dataTable =\n",
              "          await google.colab.kernel.invokeFunction('convertToInteractive',\n",
              "                                                    [key], {});\n",
              "        if (!dataTable) return;\n",
              "\n",
              "        const docLinkHtml = 'Like what you see? Visit the ' +\n",
              "          '<a target=\"_blank\" href=https://colab.research.google.com/notebooks/data_table.ipynb>data table notebook</a>'\n",
              "          + ' to learn more about interactive tables.';\n",
              "        element.innerHTML = '';\n",
              "        dataTable['output_type'] = 'display_data';\n",
              "        await google.colab.output.renderOutput(dataTable, element);\n",
              "        const docLink = document.createElement('div');\n",
              "        docLink.innerHTML = docLinkHtml;\n",
              "        element.appendChild(docLink);\n",
              "      }\n",
              "    </script>\n",
              "  </div>\n",
              "\n",
              "\n",
              "    <div id=\"df-e6ec1744-6085-4f90-9e4f-146ddd341636\">\n",
              "      <button class=\"colab-df-quickchart\" onclick=\"quickchart('df-e6ec1744-6085-4f90-9e4f-146ddd341636')\"\n",
              "                title=\"Suggest charts\"\n",
              "                style=\"display:none;\">\n",
              "\n",
              "<svg xmlns=\"http://www.w3.org/2000/svg\" height=\"24px\"viewBox=\"0 0 24 24\"\n",
              "     width=\"24px\">\n",
              "    <g>\n",
              "        <path d=\"M19 3H5c-1.1 0-2 .9-2 2v14c0 1.1.9 2 2 2h14c1.1 0 2-.9 2-2V5c0-1.1-.9-2-2-2zM9 17H7v-7h2v7zm4 0h-2V7h2v10zm4 0h-2v-4h2v4z\"/>\n",
              "    </g>\n",
              "</svg>\n",
              "      </button>\n",
              "\n",
              "<style>\n",
              "  .colab-df-quickchart {\n",
              "      --bg-color: #E8F0FE;\n",
              "      --fill-color: #1967D2;\n",
              "      --hover-bg-color: #E2EBFA;\n",
              "      --hover-fill-color: #174EA6;\n",
              "      --disabled-fill-color: #AAA;\n",
              "      --disabled-bg-color: #DDD;\n",
              "  }\n",
              "\n",
              "  [theme=dark] .colab-df-quickchart {\n",
              "      --bg-color: #3B4455;\n",
              "      --fill-color: #D2E3FC;\n",
              "      --hover-bg-color: #434B5C;\n",
              "      --hover-fill-color: #FFFFFF;\n",
              "      --disabled-bg-color: #3B4455;\n",
              "      --disabled-fill-color: #666;\n",
              "  }\n",
              "\n",
              "  .colab-df-quickchart {\n",
              "    background-color: var(--bg-color);\n",
              "    border: none;\n",
              "    border-radius: 50%;\n",
              "    cursor: pointer;\n",
              "    display: none;\n",
              "    fill: var(--fill-color);\n",
              "    height: 32px;\n",
              "    padding: 0;\n",
              "    width: 32px;\n",
              "  }\n",
              "\n",
              "  .colab-df-quickchart:hover {\n",
              "    background-color: var(--hover-bg-color);\n",
              "    box-shadow: 0 1px 2px rgba(60, 64, 67, 0.3), 0 1px 3px 1px rgba(60, 64, 67, 0.15);\n",
              "    fill: var(--button-hover-fill-color);\n",
              "  }\n",
              "\n",
              "  .colab-df-quickchart-complete:disabled,\n",
              "  .colab-df-quickchart-complete:disabled:hover {\n",
              "    background-color: var(--disabled-bg-color);\n",
              "    fill: var(--disabled-fill-color);\n",
              "    box-shadow: none;\n",
              "  }\n",
              "\n",
              "  .colab-df-spinner {\n",
              "    border: 2px solid var(--fill-color);\n",
              "    border-color: transparent;\n",
              "    border-bottom-color: var(--fill-color);\n",
              "    animation:\n",
              "      spin 1s steps(1) infinite;\n",
              "  }\n",
              "\n",
              "  @keyframes spin {\n",
              "    0% {\n",
              "      border-color: transparent;\n",
              "      border-bottom-color: var(--fill-color);\n",
              "      border-left-color: var(--fill-color);\n",
              "    }\n",
              "    20% {\n",
              "      border-color: transparent;\n",
              "      border-left-color: var(--fill-color);\n",
              "      border-top-color: var(--fill-color);\n",
              "    }\n",
              "    30% {\n",
              "      border-color: transparent;\n",
              "      border-left-color: var(--fill-color);\n",
              "      border-top-color: var(--fill-color);\n",
              "      border-right-color: var(--fill-color);\n",
              "    }\n",
              "    40% {\n",
              "      border-color: transparent;\n",
              "      border-right-color: var(--fill-color);\n",
              "      border-top-color: var(--fill-color);\n",
              "    }\n",
              "    60% {\n",
              "      border-color: transparent;\n",
              "      border-right-color: var(--fill-color);\n",
              "    }\n",
              "    80% {\n",
              "      border-color: transparent;\n",
              "      border-right-color: var(--fill-color);\n",
              "      border-bottom-color: var(--fill-color);\n",
              "    }\n",
              "    90% {\n",
              "      border-color: transparent;\n",
              "      border-bottom-color: var(--fill-color);\n",
              "    }\n",
              "  }\n",
              "</style>\n",
              "\n",
              "      <script>\n",
              "        async function quickchart(key) {\n",
              "          const quickchartButtonEl =\n",
              "            document.querySelector('#' + key + ' button');\n",
              "          quickchartButtonEl.disabled = true;  // To prevent multiple clicks.\n",
              "          quickchartButtonEl.classList.add('colab-df-spinner');\n",
              "          try {\n",
              "            const charts = await google.colab.kernel.invokeFunction(\n",
              "                'suggestCharts', [key], {});\n",
              "          } catch (error) {\n",
              "            console.error('Error during call to suggestCharts:', error);\n",
              "          }\n",
              "          quickchartButtonEl.classList.remove('colab-df-spinner');\n",
              "          quickchartButtonEl.classList.add('colab-df-quickchart-complete');\n",
              "        }\n",
              "        (() => {\n",
              "          let quickchartButtonEl =\n",
              "            document.querySelector('#df-e6ec1744-6085-4f90-9e4f-146ddd341636 button');\n",
              "          quickchartButtonEl.style.display =\n",
              "            google.colab.kernel.accessAllowed ? 'block' : 'none';\n",
              "        })();\n",
              "      </script>\n",
              "    </div>\n",
              "\n",
              "    </div>\n",
              "  </div>\n"
            ],
            "application/vnd.google.colaboratory.intrinsic+json": {
              "type": "dataframe",
              "variable_name": "df",
              "summary": "{\n  \"name\": \"df\",\n  \"rows\": 3393,\n  \"fields\": [\n    {\n      \"column\": \"filepath\",\n      \"properties\": {\n        \"dtype\": \"string\",\n        \"num_unique_values\": 3393,\n        \"samples\": [\n          \"/content/dataset_extracted/train/Damaged_highway/3 (2).jpg\",\n          \"/content/dataset_extracted/train/Non-damaged_building/4 (885).jpg\",\n          \"/content/dataset_extracted/train/Non-damaged_building/4 (810).jpg\"\n        ],\n        \"semantic_type\": \"\",\n        \"description\": \"\"\n      }\n    },\n    {\n      \"column\": \"label\",\n      \"properties\": {\n        \"dtype\": \"category\",\n        \"num_unique_values\": 5,\n        \"samples\": [\n          \"Non-damaged_building\",\n          \"debris\",\n          \"Non-damaged_highway\"\n        ],\n        \"semantic_type\": \"\",\n        \"description\": \"\"\n      }\n    }\n  ]\n}"
            }
          },
          "metadata": {},
          "execution_count": 17
        }
      ],
      "source": [
        "# 2) Build a dataframe of filepaths + labels (auto-detects subfolders as classes)\n",
        "# Change this path if your dataset is elsewhere\n",
        "dataset_dir = Path('dataset_extracted/train')\n",
        "  # <-- EDIT if needed\n",
        "\n",
        "# fallback attempts\n",
        "if not dataset_dir.exists():\n",
        "    alt = [Path('train'), Path('data/train'), Path('dataset'), Path('.')]\n",
        "    for a in alt:\n",
        "        if a.exists() and any(p.is_dir() for p in a.iterdir()):\n",
        "            dataset_dir = a\n",
        "            break\n",
        "\n",
        "print('Using dataset_dir =', dataset_dir)\n",
        "classes = [p.name for p in dataset_dir.iterdir()\n",
        "           if p.is_dir() and not p.name.startswith('.')]\n",
        "classes = sorted(classes)\n",
        "\n",
        "print('Detected classes:', classes)\n",
        "\n",
        "rows = []\n",
        "for cls in classes:\n",
        "    for img_path in (dataset_dir/cls).glob('*'):\n",
        "        if img_path.suffix.lower() in ['.jpg','.jpeg','.png','.bmp']:\n",
        "            rows.append({'filepath': str(img_path.resolve()), 'label': cls})\n",
        "\n",
        "if len(rows) == 0:\n",
        "    raise FileNotFoundError(f'No images found under {dataset_dir} — please update dataset_dir path')\n",
        "\n",
        "df = pd.DataFrame(rows)\n",
        "print('Total images found:', len(df))\n",
        "df.head()\n"
      ]
    },
    {
      "cell_type": "code",
      "source": [
        "import random\n",
        "from IPython.display import display, Image\n",
        "\n",
        "SEED = 42 # Define SEED before use\n",
        "\n",
        "# Get a few random samples from the dataframe\n",
        "sample_df = df.sample(5, random_state=SEED)\n",
        "\n",
        "for index, row in sample_df.iterrows():\n",
        "    image_path = row['filepath']\n",
        "    label = row['label']\n",
        "    print(f\"Label: {label}\")\n",
        "    display(Image(filename=image_path))\n",
        "    print(\"-\" * 30)"
      ],
      "metadata": {
        "colab": {
          "base_uri": "https://localhost:8080/",
          "height": 1000
        },
        "id": "xgXElycuLiBF",
        "outputId": "1b4d7db2-5565-4bbe-e899-abf87a478f1d"
      },
      "id": "xgXElycuLiBF",
      "execution_count": 18,
      "outputs": [
        {
          "output_type": "stream",
          "name": "stdout",
          "text": [
            "Label: Damaged_highway\n"
          ]
        },
        {
          "output_type": "display_data",
          "data": {
            "image/jpeg": "[encoded data removed]",
            "text/plain": [
              "<IPython.core.display.Image object>"
            ]
          },
          "metadata": {}
        },
        {
          "output_type": "stream",
          "name": "stdout",
          "text": [
            "------------------------------\n",
            "Label: Non-damaged_building\n"
          ]
        },
        {
          "output_type": "display_data",
          "data": {
            "image/jpeg": "[encoded data removed]",
            "text/plain": [
              "<IPython.core.display.Image object>"
            ]
          },
          "metadata": {}
        },
        {
          "output_type": "stream",
          "name": "stdout",
          "text": [
            "------------------------------\n",
            "Label: Non-damaged_building\n"
          ]
        },
        {
          "output_type": "display_data",
          "data": {
            "image/jpeg": "[encoded data removed]",
            "text/plain": [
              "<IPython.core.display.Image object>"
            ]
          },
          "metadata": {}
        },
        {
          "output_type": "stream",
          "name": "stdout",
          "text": [
            "------------------------------\n",
            "Label: Damaged_highway\n"
          ]
        },
        {
          "output_type": "display_data",
          "data": {
            "image/jpeg": "[encoded data removed]",
            "text/plain": [
              "<IPython.core.display.Image object>"
            ]
          },
          "metadata": {}
        },
        {
          "output_type": "stream",
          "name": "stdout",
          "text": [
            "------------------------------\n",
            "Label: Damaged_highway\n"
          ]
        },
        {
          "output_type": "display_data",
          "data": {
            "image/jpeg": "[encoded data removed]",
            "text/plain": [
              "<IPython.core.display.Image object>"
            ]
          },
          "metadata": {}
        },
        {
          "output_type": "stream",
          "name": "stdout",
          "text": [
            "------------------------------\n"
          ]
        }
      ]
    },
    {
      "cell_type": "code",
      "source": [
        "import os\n",
        "import shutil\n",
        "from sklearn.model_selection import train_test_split\n",
        "from pathlib import Path\n",
        "\n",
        "# ==== CONFIGURATION ====\n",
        "# Path to your original dataset\n",
        "SOURCE_DIR = Path(\"dataset_extracted/train\")   # Use the extracted train directory\n",
        "\n",
        "# Create 5-level folders (if they don't exist as destination)\n",
        "NEW_LABELS = [\"very_good\", \"good\", \"needs_maintenance\", \"bad\", \"very_bad\"]\n",
        "\n",
        "# Mapping: old folders → new condition labels\n",
        "FOLDER_MAPPING = {\n",
        "    \"Non-damaged_highway\": [\"very_good\", \"good\"],    # split good roads into 2 categories\n",
        "    \"Damaged_highway\": [\"needs_maintenance\", \"bad\"], # damaged roads split into 2 levels\n",
        "    \"debris\": [\"very_bad\"],                         # severe condition\n",
        "}\n",
        "\n",
        "# Create the new directories if they don't exist already\n",
        "for label in NEW_LABELS:\n",
        "    os.makedirs(SOURCE_DIR / label, exist_ok=True)\n",
        "\n",
        "\n",
        "# ==== MAIN PROCESS ====\n",
        "for old_folder, new_labels in FOLDER_MAPPING.items():\n",
        "    src_path = SOURCE_DIR / old_folder\n",
        "\n",
        "    if not src_path.exists():\n",
        "        print(f\"⚠️ Source folder not found: {src_path}. Skipping.\")\n",
        "        continue\n",
        "\n",
        "    images = os.listdir(src_path)\n",
        "\n",
        "    if not images:\n",
        "        print(f\"⚠️ No images found in {old_folder}. Skipping.\")\n",
        "        continue\n",
        "\n",
        "    print(f\"\\nProcessing folder: {old_folder}\")\n",
        "\n",
        "    if len(new_labels) == 1:\n",
        "        # Move all images to the single new label folder\n",
        "        dest_label = new_labels[0]\n",
        "        dest_path = SOURCE_DIR / dest_label\n",
        "\n",
        "        # Only move if the source and destination folders are different\n",
        "        if src_path != dest_path:\n",
        "             print(f\"Moving {len(images)} images from {old_folder} → {dest_label}\")\n",
        "             for img in tqdm(images):\n",
        "                 src_file = os.path.join(src_path, img)\n",
        "                 dest_file = os.path.join(dest_path, img)\n",
        "                 # Check if the file already exists in the destination before moving (to avoid errors if run multiple times)\n",
        "                 if not os.path.exists(dest_file):\n",
        "                    shutil.move(src_file, dest_file)\n",
        "             # Remove the old folder if it's now empty and not one of the new destination folders\n",
        "             if not os.listdir(src_path) and old_folder not in NEW_LABELS:\n",
        "                 os.rmdir(src_path)\n",
        "                 print(f\"Removed empty source folder: {old_folder}\")\n",
        "        else:\n",
        "            print(f\"Source and destination are the same ({old_folder} → {dest_label}). No move needed.\")\n",
        "\n",
        "\n",
        "    else:\n",
        "        # Split images roughly 50/50 between the two new labels\n",
        "        dest_label1 = new_labels[0]\n",
        "        dest_label2 = new_labels[1]\n",
        "        dest_path1 = SOURCE_DIR / dest_label1\n",
        "        dest_path2 = SOURCE_DIR / dest_label2\n",
        "\n",
        "        # Filter out images that might have already been moved if the cell was run partially\n",
        "        images_to_split = [img for img in images if not (os.path.exists(dest_path1 / img) or os.path.exists(dest_path2 / img))]\n",
        "\n",
        "        if not images_to_split:\n",
        "             print(f\"No images left to split in {old_folder}.\")\n",
        "             # Remove the old folder if it's now empty and not one of the new destination folders\n",
        "             if not os.listdir(src_path) and old_folder not in NEW_LABELS:\n",
        "                 os.rmdir(src_path)\n",
        "                 print(f\"Removed empty source folder: {old_folder}\")\n",
        "             continue\n",
        "\n",
        "\n",
        "        train_imgs, test_imgs = train_test_split(images_to_split, test_size=0.5, random_state=42)\n",
        "\n",
        "        print(f\"Splitting {old_folder} into {dest_label1} and {dest_label2} ({len(train_imgs)} / {len(test_imgs)})\")\n",
        "\n",
        "        print(f\"Moving to {dest_label1}...\")\n",
        "        for img in tqdm(train_imgs):\n",
        "             src_file = os.path.join(src_path, img)\n",
        "             dest_file = os.path.join(dest_path1, img)\n",
        "             shutil.move(src_file, dest_file)\n",
        "\n",
        "        print(f\"Moving to {dest_label2}...\")\n",
        "        for img in tqdm(test_imgs):\n",
        "             src_file = os.path.join(src_path, img)\n",
        "             dest_file = os.path.join(dest_path2, img)\n",
        "             shutil.move(src_file, dest_file)\n",
        "\n",
        "        # Remove the old folder if it's now empty and not one of the new destination folders\n",
        "        if not os.listdir(src_path) and old_folder not in NEW_LABELS:\n",
        "            os.rmdir(src_path)\n",
        "            print(f\"Removed empty source folder: {old_folder}\")\n",
        "\n",
        "\n",
        "print(\"\\n🎯 Dataset reorganized successfully in place!\")\n",
        "print(\"Next: Update the dataset_dir variable in the code cell that builds the dataframe to point to the modified train directory.\")"
      ],
      "metadata": {
        "colab": {
          "base_uri": "https://localhost:8080/"
        },
        "id": "3nDl69jYLWuZ",
        "outputId": "380807c0-f706-4af1-ad7b-9bb37a0fe99c"
      },
      "id": "3nDl69jYLWuZ",
      "execution_count": 19,
      "outputs": [
        {
          "output_type": "stream",
          "name": "stdout",
          "text": [
            "\n",
            "Processing folder: Non-damaged_highway\n",
            "Splitting Non-damaged_highway into very_good and good (239 / 239)\n",
            "Moving to very_good...\n"
          ]
        },
        {
          "output_type": "stream",
          "name": "stderr",
          "text": [
            "100%|██████████| 239/239 [00:00<00:00, 33698.82it/s]\n"
          ]
        },
        {
          "output_type": "stream",
          "name": "stdout",
          "text": [
            "Moving to good...\n"
          ]
        },
        {
          "output_type": "stream",
          "name": "stderr",
          "text": [
            "100%|██████████| 239/239 [00:00<00:00, 22726.40it/s]\n"
          ]
        },
        {
          "output_type": "stream",
          "name": "stdout",
          "text": [
            "Removed empty source folder: Non-damaged_highway\n",
            "\n",
            "Processing folder: Damaged_highway\n",
            "Splitting Damaged_highway into needs_maintenance and bad (324 / 324)\n",
            "Moving to needs_maintenance...\n"
          ]
        },
        {
          "output_type": "stream",
          "name": "stderr",
          "text": [
            "100%|██████████| 324/324 [00:00<00:00, 29652.72it/s]\n"
          ]
        },
        {
          "output_type": "stream",
          "name": "stdout",
          "text": [
            "Moving to bad...\n"
          ]
        },
        {
          "output_type": "stream",
          "name": "stderr",
          "text": [
            "100%|██████████| 324/324 [00:00<00:00, 33151.70it/s]\n"
          ]
        },
        {
          "output_type": "stream",
          "name": "stdout",
          "text": [
            "Removed empty source folder: Damaged_highway\n",
            "\n",
            "Processing folder: debris\n",
            "Moving 372 images from debris → very_bad\n"
          ]
        },
        {
          "output_type": "stream",
          "name": "stderr",
          "text": [
            "100%|██████████| 372/372 [00:00<00:00, 32474.73it/s]"
          ]
        },
        {
          "output_type": "stream",
          "name": "stdout",
          "text": [
            "Removed empty source folder: debris\n",
            "\n",
            "🎯 Dataset reorganized successfully in place!\n",
            "Next: Update the dataset_dir variable in the code cell that builds the dataframe to point to the modified train directory.\n"
          ]
        },
        {
          "output_type": "stream",
          "name": "stderr",
          "text": [
            "\n"
          ]
        }
      ]
    },
    {
      "cell_type": "code",
      "source": [
        "import random\n",
        "from IPython.display import display, Image\n",
        "\n",
        "# Get a few random samples from the dataframe\n",
        "sample_df = df.sample(5, random_state=42)\n",
        "\n",
        "for index, row in sample_df.iterrows():\n",
        "    image_path = row['filepath']\n",
        "    label = row['label']\n",
        "    print(f\"Label: {label}\")\n",
        "    display(Image(filename=image_path))\n",
        "    print(\"-\" * 30)"
      ],
      "metadata": {
        "colab": {
          "base_uri": "https://localhost:8080/",
          "height": 369
        },
        "id": "W9j-3hYcLgkb",
        "outputId": "b07d6158-770c-453b-8dc0-b5fc527ceb7d"
      },
      "id": "W9j-3hYcLgkb",
      "execution_count": 21,
      "outputs": [
        {
          "output_type": "stream",
          "name": "stdout",
          "text": [
            "Label: Damaged_highway\n"
          ]
        },
        {
          "output_type": "error",
          "ename": "FileNotFoundError",
          "evalue": "[Errno 2] No such file or directory: '/content/dataset_extracted/train/Damaged_highway/3 (2).jpg'",
          "traceback": [
            "\u001b[0;31m---------------------------------------------------------------------------\u001b[0m",
            "\u001b[0;31mFileNotFoundError\u001b[0m                         Traceback (most recent call last)",
            "\u001b[0;32m/tmp/ipython-input-3230974745.py\u001b[0m in \u001b[0;36m<cell line: 0>\u001b[0;34m()\u001b[0m\n\u001b[1;32m      9\u001b[0m     \u001b[0mlabel\u001b[0m \u001b[0;34m=\u001b[0m \u001b[0mrow\u001b[0m\u001b[0;34m[\u001b[0m\u001b[0;34m'label'\u001b[0m\u001b[0;34m]\u001b[0m\u001b[0;34m\u001b[0m\u001b[0;34m\u001b[0m\u001b[0m\n\u001b[1;32m     10\u001b[0m     \u001b[0mprint\u001b[0m\u001b[0;34m(\u001b[0m\u001b[0;34mf\"Label: {label}\"\u001b[0m\u001b[0;34m)\u001b[0m\u001b[0;34m\u001b[0m\u001b[0;34m\u001b[0m\u001b[0m\n\u001b[0;32m---> 11\u001b[0;31m     \u001b[0mdisplay\u001b[0m\u001b[0;34m(\u001b[0m\u001b[0mImage\u001b[0m\u001b[0;34m(\u001b[0m\u001b[0mfilename\u001b[0m\u001b[0;34m=\u001b[0m\u001b[0mimage_path\u001b[0m\u001b[0;34m)\u001b[0m\u001b[0;34m)\u001b[0m\u001b[0;34m\u001b[0m\u001b[0;34m\u001b[0m\u001b[0m\n\u001b[0m\u001b[1;32m     12\u001b[0m     \u001b[0mprint\u001b[0m\u001b[0;34m(\u001b[0m\u001b[0;34m\"-\"\u001b[0m \u001b[0;34m*\u001b[0m \u001b[0;36m30\u001b[0m\u001b[0;34m)\u001b[0m\u001b[0;34m\u001b[0m\u001b[0;34m\u001b[0m\u001b[0m\n",
            "\u001b[0;32m/usr/local/lib/python3.12/dist-packages/IPython/core/display.py\u001b[0m in \u001b[0;36m__init__\u001b[0;34m(self, data, url, filename, format, embed, width, height, retina, unconfined, metadata)\u001b[0m\n\u001b[1;32m   1229\u001b[0m         \u001b[0mself\u001b[0m\u001b[0;34m.\u001b[0m\u001b[0mretina\u001b[0m \u001b[0;34m=\u001b[0m \u001b[0mretina\u001b[0m\u001b[0;34m\u001b[0m\u001b[0;34m\u001b[0m\u001b[0m\n\u001b[1;32m   1230\u001b[0m         \u001b[0mself\u001b[0m\u001b[0;34m.\u001b[0m\u001b[0munconfined\u001b[0m \u001b[0;34m=\u001b[0m \u001b[0munconfined\u001b[0m\u001b[0;34m\u001b[0m\u001b[0;34m\u001b[0m\u001b[0m\n\u001b[0;32m-> 1231\u001b[0;31m         super(Image, self).__init__(data=data, url=url, filename=filename, \n\u001b[0m\u001b[1;32m   1232\u001b[0m                 metadata=metadata)\n\u001b[1;32m   1233\u001b[0m \u001b[0;34m\u001b[0m\u001b[0m\n",
            "\u001b[0;32m/usr/local/lib/python3.12/dist-packages/IPython/core/display.py\u001b[0m in \u001b[0;36m__init__\u001b[0;34m(self, data, url, filename, metadata)\u001b[0m\n\u001b[1;32m    635\u001b[0m             \u001b[0mself\u001b[0m\u001b[0;34m.\u001b[0m\u001b[0mmetadata\u001b[0m \u001b[0;34m=\u001b[0m \u001b[0;34m{\u001b[0m\u001b[0;34m}\u001b[0m\u001b[0;34m\u001b[0m\u001b[0;34m\u001b[0m\u001b[0m\n\u001b[1;32m    636\u001b[0m \u001b[0;34m\u001b[0m\u001b[0m\n\u001b[0;32m--> 637\u001b[0;31m         \u001b[0mself\u001b[0m\u001b[0;34m.\u001b[0m\u001b[0mreload\u001b[0m\u001b[0;34m(\u001b[0m\u001b[0;34m)\u001b[0m\u001b[0;34m\u001b[0m\u001b[0;34m\u001b[0m\u001b[0m\n\u001b[0m\u001b[1;32m    638\u001b[0m         \u001b[0mself\u001b[0m\u001b[0;34m.\u001b[0m\u001b[0m_check_data\u001b[0m\u001b[0;34m(\u001b[0m\u001b[0;34m)\u001b[0m\u001b[0;34m\u001b[0m\u001b[0;34m\u001b[0m\u001b[0m\n\u001b[1;32m    639\u001b[0m \u001b[0;34m\u001b[0m\u001b[0m\n",
            "\u001b[0;32m/usr/local/lib/python3.12/dist-packages/IPython/core/display.py\u001b[0m in \u001b[0;36mreload\u001b[0;34m(self)\u001b[0m\n\u001b[1;32m   1261\u001b[0m         \u001b[0;34m\"\"\"Reload the raw data from file or URL.\"\"\"\u001b[0m\u001b[0;34m\u001b[0m\u001b[0;34m\u001b[0m\u001b[0m\n\u001b[1;32m   1262\u001b[0m         \u001b[0;32mif\u001b[0m \u001b[0mself\u001b[0m\u001b[0;34m.\u001b[0m\u001b[0membed\u001b[0m\u001b[0;34m:\u001b[0m\u001b[0;34m\u001b[0m\u001b[0;34m\u001b[0m\u001b[0m\n\u001b[0;32m-> 1263\u001b[0;31m             \u001b[0msuper\u001b[0m\u001b[0;34m(\u001b[0m\u001b[0mImage\u001b[0m\u001b[0;34m,\u001b[0m\u001b[0mself\u001b[0m\u001b[0;34m)\u001b[0m\u001b[0;34m.\u001b[0m\u001b[0mreload\u001b[0m\u001b[0;34m(\u001b[0m\u001b[0;34m)\u001b[0m\u001b[0;34m\u001b[0m\u001b[0;34m\u001b[0m\u001b[0m\n\u001b[0m\u001b[1;32m   1264\u001b[0m             \u001b[0;32mif\u001b[0m \u001b[0mself\u001b[0m\u001b[0;34m.\u001b[0m\u001b[0mretina\u001b[0m\u001b[0;34m:\u001b[0m\u001b[0;34m\u001b[0m\u001b[0;34m\u001b[0m\u001b[0m\n\u001b[1;32m   1265\u001b[0m                 \u001b[0mself\u001b[0m\u001b[0;34m.\u001b[0m\u001b[0m_retina_shape\u001b[0m\u001b[0;34m(\u001b[0m\u001b[0;34m)\u001b[0m\u001b[0;34m\u001b[0m\u001b[0;34m\u001b[0m\u001b[0m\n",
            "\u001b[0;32m/usr/local/lib/python3.12/dist-packages/IPython/core/display.py\u001b[0m in \u001b[0;36mreload\u001b[0;34m(self)\u001b[0m\n\u001b[1;32m    660\u001b[0m         \u001b[0;34m\"\"\"Reload the raw data from file or URL.\"\"\"\u001b[0m\u001b[0;34m\u001b[0m\u001b[0;34m\u001b[0m\u001b[0m\n\u001b[1;32m    661\u001b[0m         \u001b[0;32mif\u001b[0m \u001b[0mself\u001b[0m\u001b[0;34m.\u001b[0m\u001b[0mfilename\u001b[0m \u001b[0;32mis\u001b[0m \u001b[0;32mnot\u001b[0m \u001b[0;32mNone\u001b[0m\u001b[0;34m:\u001b[0m\u001b[0;34m\u001b[0m\u001b[0;34m\u001b[0m\u001b[0m\n\u001b[0;32m--> 662\u001b[0;31m             \u001b[0;32mwith\u001b[0m \u001b[0mopen\u001b[0m\u001b[0;34m(\u001b[0m\u001b[0mself\u001b[0m\u001b[0;34m.\u001b[0m\u001b[0mfilename\u001b[0m\u001b[0;34m,\u001b[0m \u001b[0mself\u001b[0m\u001b[0;34m.\u001b[0m\u001b[0m_read_flags\u001b[0m\u001b[0;34m)\u001b[0m \u001b[0;32mas\u001b[0m \u001b[0mf\u001b[0m\u001b[0;34m:\u001b[0m\u001b[0;34m\u001b[0m\u001b[0;34m\u001b[0m\u001b[0m\n\u001b[0m\u001b[1;32m    663\u001b[0m                 \u001b[0mself\u001b[0m\u001b[0;34m.\u001b[0m\u001b[0mdata\u001b[0m \u001b[0;34m=\u001b[0m \u001b[0mf\u001b[0m\u001b[0;34m.\u001b[0m\u001b[0mread\u001b[0m\u001b[0;34m(\u001b[0m\u001b[0;34m)\u001b[0m\u001b[0;34m\u001b[0m\u001b[0;34m\u001b[0m\u001b[0m\n\u001b[1;32m    664\u001b[0m         \u001b[0;32melif\u001b[0m \u001b[0mself\u001b[0m\u001b[0;34m.\u001b[0m\u001b[0murl\u001b[0m \u001b[0;32mis\u001b[0m \u001b[0;32mnot\u001b[0m \u001b[0;32mNone\u001b[0m\u001b[0;34m:\u001b[0m\u001b[0;34m\u001b[0m\u001b[0;34m\u001b[0m\u001b[0m\n",
            "\u001b[0;31mFileNotFoundError\u001b[0m: [Errno 2] No such file or directory: '/content/dataset_extracted/train/Damaged_highway/3 (2).jpg'"
          ]
        }
      ]
    },
    {
      "cell_type": "code",
      "metadata": {
        "colab": {
          "base_uri": "https://localhost:8080/",
          "height": 260
        },
        "id": "3df2740c",
        "outputId": "df39b7bc-dbf5-4189-f5d9-d2cab34c4f60"
      },
      "source": [
        "# 2) Build a dataframe of filepaths + labels (auto-detects subfolders as classes)\n",
        "# Change this path if your dataset is elsewhere\n",
        "dataset_dir = Path('dataset_extracted/train')\n",
        "  # <-- EDIT if needed\n",
        "\n",
        "# fallback attempts\n",
        "if not dataset_dir.exists():\n",
        "    alt = [Path('train'), Path('data/train'), Path('dataset'), Path('.')]\n",
        "    for a in alt:\n",
        "        if a.exists() and any(p.is_dir() for p in a.iterdir()):\n",
        "            dataset_dir = a\n",
        "            break\n",
        "\n",
        "print('Using dataset_dir =', dataset_dir)\n",
        "classes = [p.name for p in dataset_dir.iterdir()\n",
        "           if p.is_dir() and not p.name.startswith('.')]\n",
        "classes = sorted(classes)\n",
        "\n",
        "print('Detected classes:', classes)\n",
        "\n",
        "rows = []\n",
        "for cls in classes:\n",
        "    for img_path in (dataset_dir/cls).glob('*'):\n",
        "        if img_path.suffix.lower() in ['.jpg','.jpeg','.png','.bmp']:\n",
        "            rows.append({'filepath': str(img_path.resolve()), 'label': cls})\n",
        "\n",
        "if len(rows) == 0:\n",
        "    raise FileNotFoundError(f'No images found under {dataset_dir} — please update dataset_dir path')\n",
        "\n",
        "df = pd.DataFrame(rows)\n",
        "print('Total images found:', len(df))\n",
        "display(df.head())"
      ],
      "id": "3df2740c",
      "execution_count": 22,
      "outputs": [
        {
          "output_type": "stream",
          "name": "stdout",
          "text": [
            "Using dataset_dir = dataset_extracted/train\n",
            "Detected classes: ['Non-damaged_building', 'bad', 'damaged_buildings', 'good', 'needs_maintenance', 'very_bad', 'very_good']\n",
            "Total images found: 3393\n"
          ]
        },
        {
          "output_type": "display_data",
          "data": {
            "text/plain": [
              "                                            filepath                 label\n",
              "0  /content/dataset_extracted/train/Non-damaged_b...  Non-damaged_building\n",
              "1  /content/dataset_extracted/train/Non-damaged_b...  Non-damaged_building\n",
              "2  /content/dataset_extracted/train/Non-damaged_b...  Non-damaged_building\n",
              "3  /content/dataset_extracted/train/Non-damaged_b...  Non-damaged_building\n",
              "4  /content/dataset_extracted/train/Non-damaged_b...  Non-damaged_building"
            ],
            "text/html": [
              "\n",
              "  <div id=\"df-59c34a66-a06a-40a5-8375-bc061a668669\" class=\"colab-df-container\">\n",
              "    <div>\n",
              "<style scoped>\n",
              "    .dataframe tbody tr th:only-of-type {\n",
              "        vertical-align: middle;\n",
              "    }\n",
              "\n",
              "    .dataframe tbody tr th {\n",
              "        vertical-align: top;\n",
              "    }\n",
              "\n",
              "    .dataframe thead th {\n",
              "        text-align: right;\n",
              "    }\n",
              "</style>\n",
              "<table border=\"1\" class=\"dataframe\">\n",
              "  <thead>\n",
              "    <tr style=\"text-align: right;\">\n",
              "      <th></th>\n",
              "      <th>filepath</th>\n",
              "      <th>label</th>\n",
              "    </tr>\n",
              "  </thead>\n",
              "  <tbody>\n",
              "    <tr>\n",
              "      <th>0</th>\n",
              "      <td>/content/dataset_extracted/train/Non-damaged_b...</td>\n",
              "      <td>Non-damaged_building</td>\n",
              "    </tr>\n",
              "    <tr>\n",
              "      <th>1</th>\n",
              "      <td>/content/dataset_extracted/train/Non-damaged_b...</td>\n",
              "      <td>Non-damaged_building</td>\n",
              "    </tr>\n",
              "    <tr>\n",
              "      <th>2</th>\n",
              "      <td>/content/dataset_extracted/train/Non-damaged_b...</td>\n",
              "      <td>Non-damaged_building</td>\n",
              "    </tr>\n",
              "    <tr>\n",
              "      <th>3</th>\n",
              "      <td>/content/dataset_extracted/train/Non-damaged_b...</td>\n",
              "      <td>Non-damaged_building</td>\n",
              "    </tr>\n",
              "    <tr>\n",
              "      <th>4</th>\n",
              "      <td>/content/dataset_extracted/train/Non-damaged_b...</td>\n",
              "      <td>Non-damaged_building</td>\n",
              "    </tr>\n",
              "  </tbody>\n",
              "</table>\n",
              "</div>\n",
              "    <div class=\"colab-df-buttons\">\n",
              "\n",
              "  <div class=\"colab-df-container\">\n",
              "    <button class=\"colab-df-convert\" onclick=\"convertToInteractive('df-59c34a66-a06a-40a5-8375-bc061a668669')\"\n",
              "            title=\"Convert this dataframe to an interactive table.\"\n",
              "            style=\"display:none;\">\n",
              "\n",
              "  <svg xmlns=\"http://www.w3.org/2000/svg\" height=\"24px\" viewBox=\"0 -960 960 960\">\n",
              "    <path d=\"M120-120v-720h720v720H120Zm60-500h600v-160H180v160Zm220 220h160v-160H400v160Zm0 220h160v-160H400v160ZM180-400h160v-160H180v160Zm440 0h160v-160H620v160ZM180-180h160v-160H180v160Zm440 0h160v-160H620v160Z\"/>\n",
              "  </svg>\n",
              "    </button>\n",
              "\n",
              "  <style>\n",
              "    .colab-df-container {\n",
              "      display:flex;\n",
              "      gap: 12px;\n",
              "    }\n",
              "\n",
              "    .colab-df-convert {\n",
              "      background-color: #E8F0FE;\n",
              "      border: none;\n",
              "      border-radius: 50%;\n",
              "      cursor: pointer;\n",
              "      display: none;\n",
              "      fill: #1967D2;\n",
              "      height: 32px;\n",
              "      padding: 0 0 0 0;\n",
              "      width: 32px;\n",
              "    }\n",
              "\n",
              "    .colab-df-convert:hover {\n",
              "      background-color: #E2EBFA;\n",
              "      box-shadow: 0px 1px 2px rgba(60, 64, 67, 0.3), 0px 1px 3px 1px rgba(60, 64, 67, 0.15);\n",
              "      fill: #174EA6;\n",
              "    }\n",
              "\n",
              "    .colab-df-buttons div {\n",
              "      margin-bottom: 4px;\n",
              "    }\n",
              "\n",
              "    [theme=dark] .colab-df-convert {\n",
              "      background-color: #3B4455;\n",
              "      fill: #D2E3FC;\n",
              "    }\n",
              "\n",
              "    [theme=dark] .colab-df-convert:hover {\n",
              "      background-color: #434B5C;\n",
              "      box-shadow: 0px 1px 3px 1px rgba(0, 0, 0, 0.15);\n",
              "      filter: drop-shadow(0px 1px 2px rgba(0, 0, 0, 0.3));\n",
              "      fill: #FFFFFF;\n",
              "    }\n",
              "  </style>\n",
              "\n",
              "    <script>\n",
              "      const buttonEl =\n",
              "        document.querySelector('#df-59c34a66-a06a-40a5-8375-bc061a668669 button.colab-df-convert');\n",
              "      buttonEl.style.display =\n",
              "        google.colab.kernel.accessAllowed ? 'block' : 'none';\n",
              "\n",
              "      async function convertToInteractive(key) {\n",
              "        const element = document.querySelector('#df-59c34a66-a06a-40a5-8375-bc061a668669');\n",
              "        const dataTable =\n",
              "          await google.colab.kernel.invokeFunction('convertToInteractive',\n",
              "                                                    [key], {});\n",
              "        if (!dataTable) return;\n",
              "\n",
              "        const docLinkHtml = 'Like what you see? Visit the ' +\n",
              "          '<a target=\"_blank\" href=https://colab.research.google.com/notebooks/data_table.ipynb>data table notebook</a>'\n",
              "          + ' to learn more about interactive tables.';\n",
              "        element.innerHTML = '';\n",
              "        dataTable['output_type'] = 'display_data';\n",
              "        await google.colab.output.renderOutput(dataTable, element);\n",
              "        const docLink = document.createElement('div');\n",
              "        docLink.innerHTML = docLinkHtml;\n",
              "        element.appendChild(docLink);\n",
              "      }\n",
              "    </script>\n",
              "  </div>\n",
              "\n",
              "\n",
              "    <div id=\"df-d3c737ec-3f28-42ee-bb5b-441d64b606da\">\n",
              "      <button class=\"colab-df-quickchart\" onclick=\"quickchart('df-d3c737ec-3f28-42ee-bb5b-441d64b606da')\"\n",
              "                title=\"Suggest charts\"\n",
              "                style=\"display:none;\">\n",
              "\n",
              "<svg xmlns=\"http://www.w3.org/2000/svg\" height=\"24px\"viewBox=\"0 0 24 24\"\n",
              "     width=\"24px\">\n",
              "    <g>\n",
              "        <path d=\"M19 3H5c-1.1 0-2 .9-2 2v14c0 1.1.9 2 2 2h14c1.1 0 2-.9 2-2V5c0-1.1-.9-2-2-2zM9 17H7v-7h2v7zm4 0h-2V7h2v10zm4 0h-2v-4h2v4z\"/>\n",
              "    </g>\n",
              "</svg>\n",
              "      </button>\n",
              "\n",
              "<style>\n",
              "  .colab-df-quickchart {\n",
              "      --bg-color: #E8F0FE;\n",
              "      --fill-color: #1967D2;\n",
              "      --hover-bg-color: #E2EBFA;\n",
              "      --hover-fill-color: #174EA6;\n",
              "      --disabled-fill-color: #AAA;\n",
              "      --disabled-bg-color: #DDD;\n",
              "  }\n",
              "\n",
              "  [theme=dark] .colab-df-quickchart {\n",
              "      --bg-color: #3B4455;\n",
              "      --fill-color: #D2E3FC;\n",
              "      --hover-bg-color: #434B5C;\n",
              "      --hover-fill-color: #FFFFFF;\n",
              "      --disabled-bg-color: #3B4455;\n",
              "      --disabled-fill-color: #666;\n",
              "  }\n",
              "\n",
              "  .colab-df-quickchart {\n",
              "    background-color: var(--bg-color);\n",
              "    border: none;\n",
              "    border-radius: 50%;\n",
              "    cursor: pointer;\n",
              "    display: none;\n",
              "    fill: var(--fill-color);\n",
              "    height: 32px;\n",
              "    padding: 0;\n",
              "    width: 32px;\n",
              "  }\n",
              "\n",
              "  .colab-df-quickchart:hover {\n",
              "    background-color: var(--hover-bg-color);\n",
              "    box-shadow: 0 1px 2px rgba(60, 64, 67, 0.3), 0 1px 3px 1px rgba(60, 64, 67, 0.15);\n",
              "    fill: var(--button-hover-fill-color);\n",
              "  }\n",
              "\n",
              "  .colab-df-quickchart-complete:disabled,\n",
              "  .colab-df-quickchart-complete:disabled:hover {\n",
              "    background-color: var(--disabled-bg-color);\n",
              "    fill: var(--disabled-fill-color);\n",
              "    box-shadow: none;\n",
              "  }\n",
              "\n",
              "  .colab-df-spinner {\n",
              "    border: 2px solid var(--fill-color);\n",
              "    border-color: transparent;\n",
              "    border-bottom-color: var(--fill-color);\n",
              "    animation:\n",
              "      spin 1s steps(1) infinite;\n",
              "  }\n",
              "\n",
              "  @keyframes spin {\n",
              "    0% {\n",
              "      border-color: transparent;\n",
              "      border-bottom-color: var(--fill-color);\n",
              "      border-left-color: var(--fill-color);\n",
              "    }\n",
              "    20% {\n",
              "      border-color: transparent;\n",
              "      border-left-color: var(--fill-color);\n",
              "      border-top-color: var(--fill-color);\n",
              "    }\n",
              "    30% {\n",
              "      border-color: transparent;\n",
              "      border-left-color: var(--fill-color);\n",
              "      border-top-color: var(--fill-color);\n",
              "      border-right-color: var(--fill-color);\n",
              "    }\n",
              "    40% {\n",
              "      border-color: transparent;\n",
              "      border-right-color: var(--fill-color);\n",
              "      border-top-color: var(--fill-color);\n",
              "    }\n",
              "    60% {\n",
              "      border-color: transparent;\n",
              "      border-right-color: var(--fill-color);\n",
              "    }\n",
              "    80% {\n",
              "      border-color: transparent;\n",
              "      border-right-color: var(--fill-color);\n",
              "      border-bottom-color: var(--fill-color);\n",
              "    }\n",
              "    90% {\n",
              "      border-color: transparent;\n",
              "      border-bottom-color: var(--fill-color);\n",
              "    }\n",
              "  }\n",
              "</style>\n",
              "\n",
              "      <script>\n",
              "        async function quickchart(key) {\n",
              "          const quickchartButtonEl =\n",
              "            document.querySelector('#' + key + ' button');\n",
              "          quickchartButtonEl.disabled = true;  // To prevent multiple clicks.\n",
              "          quickchartButtonEl.classList.add('colab-df-spinner');\n",
              "          try {\n",
              "            const charts = await google.colab.kernel.invokeFunction(\n",
              "                'suggestCharts', [key], {});\n",
              "          } catch (error) {\n",
              "            console.error('Error during call to suggestCharts:', error);\n",
              "          }\n",
              "          quickchartButtonEl.classList.remove('colab-df-spinner');\n",
              "          quickchartButtonEl.classList.add('colab-df-quickchart-complete');\n",
              "        }\n",
              "        (() => {\n",
              "          let quickchartButtonEl =\n",
              "            document.querySelector('#df-d3c737ec-3f28-42ee-bb5b-441d64b606da button');\n",
              "          quickchartButtonEl.style.display =\n",
              "            google.colab.kernel.accessAllowed ? 'block' : 'none';\n",
              "        })();\n",
              "      </script>\n",
              "    </div>\n",
              "\n",
              "    </div>\n",
              "  </div>\n"
            ],
            "application/vnd.google.colaboratory.intrinsic+json": {
              "type": "dataframe",
              "summary": "{\n  \"name\": \"display(df\",\n  \"rows\": 5,\n  \"fields\": [\n    {\n      \"column\": \"filepath\",\n      \"properties\": {\n        \"dtype\": \"string\",\n        \"num_unique_values\": 5,\n        \"samples\": [\n          \"/content/dataset_extracted/train/Non-damaged_building/4 (329).jpeg\",\n          \"/content/dataset_extracted/train/Non-damaged_building/4 (386).jpeg\",\n          \"/content/dataset_extracted/train/Non-damaged_building/4 (1123).jpg\"\n        ],\n        \"semantic_type\": \"\",\n        \"description\": \"\"\n      }\n    },\n    {\n      \"column\": \"label\",\n      \"properties\": {\n        \"dtype\": \"category\",\n        \"num_unique_values\": 1,\n        \"samples\": [\n          \"Non-damaged_building\"\n        ],\n        \"semantic_type\": \"\",\n        \"description\": \"\"\n      }\n    }\n  ]\n}"
            }
          },
          "metadata": {}
        }
      ]
    },
    {
      "cell_type": "code",
      "execution_count": 23,
      "id": "646e71fa-68a0-4d36-8718-1e853cdb37ab",
      "metadata": {
        "id": "646e71fa-68a0-4d36-8718-1e853cdb37ab"
      },
      "outputs": [],
      "source": [
        "# 3) Parameters and helper function to create generators for a given train/val split\n",
        "IMG_SIZE = (224, 224)\n",
        "BATCH_SIZE = 32\n",
        "EPOCHS = 10  # change as needed\n",
        "NUM_FOLDS = 5\n",
        "SEED = 42\n",
        "\n",
        "def make_generators(train_df, val_df, rotation_range=30):\n",
        "    print(\"Creating ImageDataGenerators...\")\n",
        "\n",
        "    # Use ImageDataGenerator for augmentation on train, and only rescale for val\n",
        "    train_datagen = ImageDataGenerator(\n",
        "        rescale=1./255,\n",
        "        rotation_range=rotation_range,\n",
        "        width_shift_range=0.1,\n",
        "        height_shift_range=0.1,\n",
        "        shear_range=0.1,\n",
        "        zoom_range=0.1,\n",
        "        horizontal_flip=True,\n",
        "        fill_mode='nearest'\n",
        "    )\n",
        "    val_datagen = ImageDataGenerator(rescale=1./255)\n",
        "\n",
        "    print(f\"Building training generator with {len(train_df)} images...\")\n",
        "    train_gen = train_datagen.flow_from_dataframe(\n",
        "        train_df, x_col='filepath', y_col='label',\n",
        "        target_size=IMG_SIZE, class_mode='categorical',\n",
        "        batch_size=BATCH_SIZE, shuffle=True, seed=SEED\n",
        "    )\n",
        "\n",
        "    print(f\"Building validation generator with {len(val_df)} images...\")\n",
        "    val_gen = val_datagen.flow_from_dataframe(\n",
        "        val_df, x_col='filepath', y_col='label',\n",
        "        target_size=IMG_SIZE, class_mode='categorical',\n",
        "        batch_size=BATCH_SIZE, shuffle=False, seed=SEED\n",
        "    )\n",
        "\n",
        "\n",
        "    return train_gen, val_gen\n"
      ]
    },
    {
      "cell_type": "code",
      "execution_count": 24,
      "id": "0da7c040-815a-43b5-9b46-9984b0b9f96f",
      "metadata": {
        "id": "0da7c040-815a-43b5-9b46-9984b0b9f96f"
      },
      "outputs": [],
      "source": [
        "# 4) MobileNetV2 model factory (transfer learning)\n",
        "\n",
        "def build_mobilenetv2(num_classes, img_size=IMG_SIZE, train_base=False, dropout=0.3):\n",
        "    print(\"🔧 Building MobileNetV2 model...\")\n",
        "    print(f\" - Input image size: {img_size}\")\n",
        "    print(f\" - Number of classes: {num_classes}\")\n",
        "    print(f\" - Base trainable: {train_base}\")\n",
        "    print(f\" - Dropout rate: {dropout}\")\n",
        "\n",
        "    # Load pre-trained MobileNetV2 base model\n",
        "    base_model = tf.keras.applications.MobileNetV2(\n",
        "        input_shape=img_size + (3,),\n",
        "        include_top=False,\n",
        "        weights='imagenet',\n",
        "        pooling='avg'\n",
        "    )\n",
        "    base_model.trainable = train_base  # whether to fine-tune base\n",
        "\n",
        "    # Build the model\n",
        "    inputs = layers.Input(shape=img_size + (3,))\n",
        "    x = tf.keras.applications.mobilenet_v2.preprocess_input(inputs)\n",
        "    x = base_model(x, training=False)\n",
        "    x = layers.Dropout(dropout)(x)\n",
        "    outputs = layers.Dense(num_classes, activation='softmax')(x)\n",
        "    model = models.Model(inputs, outputs)\n",
        "\n",
        "    # Compile model\n",
        "    model.compile(\n",
        "        optimizer=keras.optimizers.Adam(learning_rate=1e-4),\n",
        "        loss='categorical_crossentropy',\n",
        "        metrics=['accuracy']\n",
        "    )\n",
        "\n",
        "\n",
        "\n",
        "    return model\n"
      ]
    },
    {
      "cell_type": "code",
      "execution_count": 25,
      "id": "ff3a8084-c318-401e-b834-5dc7c2a74c7c",
      "metadata": {
        "id": "ff3a8084-c318-401e-b834-5dc7c2a74c7c",
        "colab": {
          "base_uri": "https://localhost:8080/"
        },
        "outputId": "387287e5-a6f2-47ae-f3fb-682d1c25f97e"
      },
      "outputs": [
        {
          "output_type": "stream",
          "name": "stdout",
          "text": [
            "Training samples: 2714\n",
            "Validation samples: 679\n"
          ]
        }
      ],
      "source": [
        "from sklearn.model_selection import train_test_split\n",
        "\n",
        "train_df, val_df = train_test_split(\n",
        "    df,\n",
        "    test_size=0.2,\n",
        "    stratify=df['label'],   # keeps class balance\n",
        "    random_state=42\n",
        ")\n",
        "\n",
        "print(\"Training samples:\", len(train_df))\n",
        "print(\"Validation samples:\", len(val_df))\n"
      ]
    },
    {
      "cell_type": "code",
      "execution_count": 26,
      "id": "c0259e98-3a02-4c9a-8149-9814ee110f5d",
      "metadata": {
        "id": "c0259e98-3a02-4c9a-8149-9814ee110f5d",
        "colab": {
          "base_uri": "https://localhost:8080/"
        },
        "outputId": "7f69d1c2-28f9-41fa-84ba-f0d8390b3631"
      },
      "outputs": [
        {
          "output_type": "stream",
          "name": "stdout",
          "text": [
            "Creating ImageDataGenerators...\n",
            "Building training generator with 2714 images...\n",
            "Found 2714 validated image filenames belonging to 7 classes.\n",
            "Building validation generator with 679 images...\n",
            "Found 679 validated image filenames belonging to 7 classes.\n"
          ]
        }
      ],
      "source": [
        "train_gen, val_gen = make_generators(train_df, val_df, rotation_range=30)\n"
      ]
    },
    {
      "cell_type": "code",
      "execution_count": 27,
      "id": "db473a3f-be5f-4a17-a579-0bf70b18ad9f",
      "metadata": {
        "id": "db473a3f-be5f-4a17-a579-0bf70b18ad9f",
        "colab": {
          "base_uri": "https://localhost:8080/"
        },
        "outputId": "0cefc8a2-2136-4aed-9058-9900da01be4d"
      },
      "outputs": [
        {
          "output_type": "stream",
          "name": "stdout",
          "text": [
            "🔧 Building MobileNetV2 model...\n",
            " - Input image size: (224, 224)\n",
            " - Number of classes: 7\n",
            " - Base trainable: True\n",
            " - Dropout rate: 0.3\n",
            "Downloading data from https://storage.googleapis.com/tensorflow/keras-applications/mobilenet_v2/mobilenet_v2_weights_tf_dim_ordering_tf_kernels_1.0_224_no_top.h5\n",
            "\u001b[1m9406464/9406464\u001b[0m \u001b[32m━━━━━━━━━━━━━━━━━━━━\u001b[0m\u001b[37m\u001b[0m \u001b[1m0s\u001b[0m 0us/step\n"
          ]
        }
      ],
      "source": [
        "model = build_mobilenetv2(\n",
        "    num_classes=len(df['label'].unique()),\n",
        "    train_base=True   # fine-tune last layers\n",
        ")\n"
      ]
    },
    {
      "cell_type": "code",
      "execution_count": 28,
      "id": "c269e757-bac1-4813-b846-a74e516cca38",
      "metadata": {
        "id": "c269e757-bac1-4813-b846-a74e516cca38"
      },
      "outputs": [],
      "source": [
        "cb = [\n",
        "    tf.keras.callbacks.ModelCheckpoint('mobilenetv2_best.h5', save_best_only=True, monitor='val_accuracy'),\n",
        "    tf.keras.callbacks.ReduceLROnPlateau(monitor='val_loss', factor=0.5, patience=2),\n",
        "    tf.keras.callbacks.EarlyStopping(monitor='val_accuracy', patience=5, restore_best_weights=True)\n",
        "]\n"
      ]
    },
    {
      "cell_type": "code",
      "source": [],
      "metadata": {
        "id": "emki0gOLIu9h"
      },
      "id": "emki0gOLIu9h",
      "execution_count": null,
      "outputs": []
    },
    {
      "cell_type": "code",
      "source": [
        "from IPython.display import display, Image\n",
        "\n",
        "image_path = \"/content/Processed_Train/Damaged_highway/3 (103).jpg\"\n",
        "display(Image(filename=image_path))"
      ],
      "metadata": {
        "id": "5DOuGe8mCMkH"
      },
      "id": "5DOuGe8mCMkH",
      "execution_count": null,
      "outputs": []
    },
    {
      "cell_type": "code",
      "execution_count": null,
      "id": "3fd0c2bf-99cf-40a1-b6ab-b6f305810b68",
      "metadata": {
        "id": "3fd0c2bf-99cf-40a1-b6ab-b6f305810b68"
      },
      "outputs": [],
      "source": [
        "EPOCHS = 10  # increase later if GPU available\n",
        "\n",
        "history = model.fit(\n",
        "    train_gen,\n",
        "    validation_data=val_gen,\n",
        "    epochs=EPOCHS,\n",
        "    callbacks=cb,\n",
        "    verbose=1\n",
        ")\n"
      ]
    },
    {
      "cell_type": "code",
      "execution_count": null,
      "id": "90206cd5-29b7-4e0b-8a77-6888fa592150",
      "metadata": {
        "id": "90206cd5-29b7-4e0b-8a77-6888fa592150"
      },
      "outputs": [],
      "source": [
        "val_steps = math.ceil(len(val_df)/BATCH_SIZE)\n",
        "val_gen.reset()\n",
        "\n",
        "preds = model.predict(val_gen, steps=val_steps)\n",
        "y_pred = np.argmax(preds, axis=1)\n",
        "y_true = val_gen.classes\n",
        "\n",
        "from sklearn.metrics import accuracy_score, classification_report\n",
        "acc = accuracy_score(y_true, y_pred)\n",
        "print(f'Validation Accuracy: {acc:.4f}')\n",
        "print(classification_report(y_true, y_pred, target_names=list(val_gen.class_indices.keys())))\n"
      ]
    },
    {
      "cell_type": "code",
      "execution_count": null,
      "id": "0f43d673-a2da-49b0-a26f-2f9ccbf45090",
      "metadata": {
        "id": "0f43d673-a2da-49b0-a26f-2f9ccbf45090"
      },
      "outputs": [],
      "source": [
        "# Unfreeze top layers\n",
        "for layer in model.layers[-40:]:\n",
        "    layer.trainable = True\n",
        "\n",
        "# Compile again with a smaller learning rate\n",
        "model.compile(\n",
        "    optimizer=keras.optimizers.Adam(learning_rate=1e-5),\n",
        "    loss='categorical_crossentropy',\n",
        "    metrics=['accuracy']\n",
        ")\n",
        "\n",
        "# Fine-tune for 5 epochs\n",
        "fine_tune_history = model.fit(\n",
        "    train_gen,\n",
        "    validation_data=val_gen,\n",
        "    epochs=5,\n",
        "    verbose=1\n",
        ")\n"
      ]
    },
    {
      "cell_type": "code",
      "execution_count": null,
      "id": "705de4d8-5781-42b9-891e-6910ebc23f3a",
      "metadata": {
        "id": "705de4d8-5781-42b9-891e-6910ebc23f3a"
      },
      "outputs": [],
      "source": [
        "from sklearn.utils.class_weight import compute_class_weight\n",
        "import numpy as np\n",
        "\n",
        "class_weights = compute_class_weight(\n",
        "    class_weight='balanced',\n",
        "    classes=np.unique(df['label']),\n",
        "    y=df['label']\n",
        ")\n",
        "\n",
        "class_weights = dict(enumerate(class_weights))\n",
        "print(\"Class Weights:\", class_weights)\n"
      ]
    },
    {
      "cell_type": "code",
      "execution_count": null,
      "id": "8ab2bc71-aadb-474f-b405-5253c37bfbac",
      "metadata": {
        "id": "8ab2bc71-aadb-474f-b405-5253c37bfbac"
      },
      "outputs": [],
      "source": [
        "model.fit(\n",
        "    train_gen,\n",
        "    validation_data=val_gen,\n",
        "    epochs=EPOCHS,\n",
        "    callbacks=cb,\n",
        "    class_weight=class_weights,\n",
        "    verbose=1\n",
        ")\n"
      ]
    },
    {
      "cell_type": "code",
      "execution_count": null,
      "id": "9659a17f-7913-4660-bf4f-b2c0bb2393db",
      "metadata": {
        "id": "9659a17f-7913-4660-bf4f-b2c0bb2393db"
      },
      "outputs": [],
      "source": [
        "train_datagen = ImageDataGenerator(\n",
        "    rescale=1./255,\n",
        "    rotation_range=30,\n",
        "    width_shift_range=0.2,\n",
        "    height_shift_range=0.2,\n",
        "    shear_range=0.15,\n",
        "    zoom_range=0.2,\n",
        "    brightness_range=[0.8, 1.2],\n",
        "    horizontal_flip=True,\n",
        "    fill_mode='nearest'\n",
        ")\n"
      ]
    },
    {
      "cell_type": "code",
      "source": [
        "train_datagen"
      ],
      "metadata": {
        "id": "Ze633LC_Ek1M"
      },
      "id": "Ze633LC_Ek1M",
      "execution_count": null,
      "outputs": []
    },
    {
      "cell_type": "code",
      "metadata": {
        "id": "ee997613"
      },
      "source": [
        "display(train_datagen)"
      ],
      "id": "ee997613",
      "execution_count": null,
      "outputs": []
    },
    {
      "cell_type": "code",
      "execution_count": null,
      "id": "7902c221-5e59-4b7b-809e-696d5e431a20",
      "metadata": {
        "id": "7902c221-5e59-4b7b-809e-696d5e431a20"
      },
      "outputs": [],
      "source": [
        "lr_scheduler = tf.keras.callbacks.ReduceLROnPlateau(\n",
        "    monitor='val_accuracy',\n",
        "    factor=0.5,\n",
        "    patience=2,\n",
        "    min_lr=1e-6,\n",
        "    verbose=1\n",
        ")\n"
      ]
    },
    {
      "cell_type": "code",
      "execution_count": null,
      "id": "6f3d96ce-6a2a-4c1b-85ec-e056f62284af",
      "metadata": {
        "id": "6f3d96ce-6a2a-4c1b-85ec-e056f62284af"
      },
      "outputs": [],
      "source": [
        "from tensorflow.keras.callbacks import ModelCheckpoint, EarlyStopping, ReduceLROnPlateau\n",
        "\n",
        "# Learning rate scheduler\n",
        "lr_scheduler = ReduceLROnPlateau(\n",
        "    monitor='val_loss',\n",
        "    factor=0.5,\n",
        "    patience=2,\n",
        "    min_lr=1e-6,\n",
        "    verbose=1\n",
        ")\n",
        "\n",
        "# Callbacks\n",
        "cb = [\n",
        "    ModelCheckpoint('mobilenetv2_best.keras', save_best_only=True, monitor='val_accuracy'),\n",
        "    EarlyStopping(monitor='val_accuracy', patience=3, restore_best_weights=True),\n",
        "    lr_scheduler\n",
        "]\n"
      ]
    },
    {
      "cell_type": "code",
      "execution_count": null,
      "id": "e7b42dd1-dc67-4833-a42a-bc33fb1130b4",
      "metadata": {
        "id": "e7b42dd1-dc67-4833-a42a-bc33fb1130b4"
      },
      "outputs": [],
      "source": [
        "import tensorflow as tf\n",
        "from tensorflow.keras import layers, models, callbacks\n",
        "\n",
        "# ✅ 1) Base Model (MobileNetV2)\n",
        "def build_mobilenetv2(num_classes, img_size=(224, 224), train_base=False, dropout=0.3):\n",
        "    base_model = tf.keras.applications.MobileNetV2(\n",
        "        input_shape=img_size + (3,),\n",
        "        include_top=False,\n",
        "        weights='imagenet',\n",
        "        pooling='avg'\n",
        "    )\n",
        "    base_model.trainable = train_base  # initially freeze base layers\n",
        "\n",
        "    inputs = layers.Input(shape=img_size + (3,))\n",
        "    x = tf.keras.applications.mobilenet_v2.preprocess_input(inputs)\n",
        "    x = base_model(x, training=False)\n",
        "    x = layers.Dropout(dropout)(x)\n",
        "    outputs = layers.Dense(num_classes, activation='softmax')(x)\n",
        "\n",
        "    model = models.Model(inputs, outputs)\n",
        "    model.compile(\n",
        "        optimizer=tf.keras.optimizers.Adam(learning_rate=1e-4),\n",
        "        loss='categorical_crossentropy',\n",
        "        metrics=['accuracy']\n",
        "    )\n",
        "    return model\n",
        "\n",
        "\n"
      ]
    },
    {
      "cell_type": "code",
      "execution_count": null,
      "id": "2afcdaf6-b11a-4220-87ff-1537388aaf40",
      "metadata": {
        "id": "2afcdaf6-b11a-4220-87ff-1537388aaf40"
      },
      "outputs": [],
      "source": [
        "from IPython.display import display, Image\n",
        "\n",
        "image_path = \"/content/Processed_Train/Damaged_highway/3 (1).jpeg\"\n",
        "display(Image(filename=image_path))"
      ]
    },
    {
      "cell_type": "code",
      "metadata": {
        "id": "e23c99e7"
      },
      "source": [
        "import math\n",
        "from sklearn.metrics import accuracy_score, classification_report\n",
        "import numpy as np\n",
        "\n",
        "val_steps = math.ceil(len(val_df)/BATCH_SIZE)\n",
        "val_gen.reset()\n",
        "\n",
        "preds = model.predict(val_gen, steps=val_steps)\n",
        "y_pred = np.argmax(preds, axis=1)\n",
        "y_true = val_gen.classes\n",
        "\n",
        "acc = accuracy_score(y_true, y_pred)\n",
        "print(f'Validation Accuracy: {acc:.4f}')\n",
        "print(classification_report(y_true, y_pred, target_names=list(val_gen.class_indices.keys())))"
      ],
      "id": "e23c99e7",
      "execution_count": null,
      "outputs": []
    },
    {
      "cell_type": "code",
      "source": [
        "from collections import Counter\n",
        "print(Counter(train_gen.classes))"
      ],
      "metadata": {
        "id": "c9AjZ7cEHwZw"
      },
      "id": "c9AjZ7cEHwZw",
      "execution_count": null,
      "outputs": []
    },
    {
      "cell_type": "code",
      "source": [],
      "metadata": {
        "id": "7NbUZz7OHw8H"
      },
      "id": "7NbUZz7OHw8H",
      "execution_count": null,
      "outputs": []
    },
    {
      "cell_type": "code",
      "source": [],
      "metadata": {
        "id": "8gukl_GaIX-f"
      },
      "id": "8gukl_GaIX-f",
      "execution_count": null,
      "outputs": []
    }
  ],
  "metadata": {
    "colab": {
      "provenance": [],
      "gpuType": "T4"
    },
    "kernelspec": {
      "display_name": "Python 3.13 (System)",
      "language": "python",
      "name": "py13_sys"
    },
    "language_info": {
      "codemirror_mode": {
        "name": "ipython",
        "version": 3
      },
      "file_extension": ".py",
      "mimetype": "text/x-python",
      "name": "python",
      "nbconvert_exporter": "python",
      "pygments_lexer": "ipython3",
      "version": "3.13.7"
    },
    "accelerator": "GPU"
  },
  "nbformat": 4,
  "nbformat_minor": 5
}