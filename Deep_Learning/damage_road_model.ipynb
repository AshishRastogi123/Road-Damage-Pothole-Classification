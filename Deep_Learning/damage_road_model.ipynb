{
  "cells": [
    {
      "cell_type": "code",
      "execution_count": 21,
      "id": "c8b09133-156b-4b5b-9298-cb6f8504dd36",
      "metadata": {
        "colab": {
          "base_uri": "https://localhost:8080/"
        },
        "id": "c8b09133-156b-4b5b-9298-cb6f8504dd36",
        "outputId": "481fdb9e-958d-497c-a129-5e0b79efa6f4"
      },
      "outputs": [
        {
          "output_type": "stream",
          "name": "stdout",
          "text": [
            "Dataset extracted to: /content/dataset_extracted\n"
          ]
        }
      ],
      "source": [
        "import zipfile\n",
        "from pathlib import Path\n",
        "\n",
        "ZIP_PATH = Path(\"archive (9).zip\")\n",
        "EXTRACT_DIR = Path(\"dataset_extracted\")\n",
        "\n",
        "with zipfile.ZipFile(ZIP_PATH, 'r') as zf:\n",
        "    zf.extractall(EXTRACT_DIR)\n",
        "\n",
        "print(\"Dataset extracted to:\", EXTRACT_DIR.resolve())\n"
      ]
    },
    {
      "cell_type": "code",
      "execution_count": 22,
      "id": "39700ebf-2df4-4e41-8092-932bc43c7a69",
      "metadata": {
        "colab": {
          "base_uri": "https://localhost:8080/"
        },
        "id": "39700ebf-2df4-4e41-8092-932bc43c7a69",
        "outputId": "aa2f0ef4-c976-443f-e9df-67cc7d420be2"
      },
      "outputs": [
        {
          "output_type": "stream",
          "name": "stdout",
          "text": [
            "Validation  split created successfully!\n"
          ]
        }
      ],
      "source": [
        "import os\n",
        "import shutil\n",
        "import random\n",
        "from pathlib import Path\n",
        "\n",
        "# Path jahan tumhara training data hai\n",
        "train_dir = Path(\"dataset_extracted/train\")\n",
        "\n",
        "# Naya validation folder ka path\n",
        "val_dir = Path(\"dataset_extracted/val\")\n",
        "val_dir.mkdir(exist_ok=True)\n",
        "\n",
        "# Har class ke liye 10% images val folder me move karte hain\n",
        "for class_folder in train_dir.iterdir():\n",
        "    if class_folder.is_dir():\n",
        "        val_class_dir = val_dir / class_folder.name\n",
        "        val_class_dir.mkdir(parents=True, exist_ok=True)\n",
        "\n",
        "        # Folder ke andar sab images list karo\n",
        "        images = list(class_folder.glob(\"*.*\"))\n",
        "        random.shuffle(images)\n",
        "        val_count = int(0.1 * len(images))  # 10% split\n",
        "        val_images = images[:val_count]\n",
        "\n",
        "        # Images move kar do validation folder me\n",
        "        for img_path in val_images:\n",
        "            shutil.move(str(img_path), str(val_class_dir / img_path.name))\n",
        "\n",
        "print(\"Validation  split created successfully!\")\n"
      ]
    },
    {
      "cell_type": "code",
      "source": [],
      "metadata": {
        "id": "NOAKn49A2hbk"
      },
      "id": "NOAKn49A2hbk",
      "execution_count": 22,
      "outputs": []
    },
    {
      "cell_type": "code",
      "execution_count": 23,
      "id": "8aaba0bd-0528-443a-9475-d7b8a36f8915",
      "metadata": {
        "id": "8aaba0bd-0528-443a-9475-d7b8a36f8915",
        "colab": {
          "base_uri": "https://localhost:8080/"
        },
        "outputId": "5034d69c-a3cc-437f-a305-e7bd402990df"
      },
      "outputs": [
        {
          "output_type": "stream",
          "name": "stdout",
          "text": [
            "Damaged_highway: 72 images\n",
            "Non-damaged_building: 166 images\n",
            "damaged_buildings: 44 images\n",
            "debris: 41 images\n",
            "Non-damaged_highway: 53 images\n"
          ]
        }
      ],
      "source": [
        "for folder in os.listdir(\"dataset_extracted/val\"):\n",
        "    path = os.path.join(\"dataset_extracted/val\", folder)\n",
        "    print(f\"{folder}: {len(os.listdir(path))} images\")\n"
      ]
    },
    {
      "cell_type": "code",
      "execution_count": 24,
      "id": "d8e27999-b60e-4aa2-837e-2ec3d9e7dc78",
      "metadata": {
        "id": "d8e27999-b60e-4aa2-837e-2ec3d9e7dc78",
        "colab": {
          "base_uri": "https://localhost:8080/"
        },
        "outputId": "9e4b1901-dcc5-44a2-811e-3f6093f45d7a"
      },
      "outputs": [
        {
          "output_type": "stream",
          "name": "stdout",
          "text": [
            "2.19.0\n"
          ]
        }
      ],
      "source": [
        "import tensorflow as tf\n",
        "print(tf.__version__)\n"
      ]
    },
    {
      "cell_type": "code",
      "execution_count": 25,
      "id": "e8a4894c-bb1b-4005-b4eb-29d83e9c9699",
      "metadata": {
        "id": "e8a4894c-bb1b-4005-b4eb-29d83e9c9699"
      },
      "outputs": [],
      "source": [
        "# Imports\n",
        "import os\n",
        "from pathlib import Path\n",
        "import json\n",
        "import numpy as np\n",
        "import matplotlib.pyplot as plt\n",
        "\n",
        "import tensorflow as tf\n",
        "from tensorflow.keras.preprocessing.image import ImageDataGenerator\n",
        "from tensorflow.keras.callbacks import ModelCheckpoint, ReduceLROnPlateau, EarlyStopping\n",
        "\n",
        "from sklearn.metrics import classification_report, confusion_matrix\n",
        "import itertools\n"
      ]
    },
    {
      "cell_type": "code",
      "execution_count": 26,
      "id": "c7d083f6-4768-4b75-9a2e-ead4b857252a",
      "metadata": {
        "id": "c7d083f6-4768-4b75-9a2e-ead4b857252a"
      },
      "outputs": [],
      "source": [
        "# Paths and hyperparameters\n",
        "BASE_DIR = Path(\"dataset_extracted\")   # your extracted dataset folder\n",
        "TRAIN_DIR = BASE_DIR / \"train\"\n",
        "VAL_DIR   = BASE_DIR / \"val\"\n",
        "TEST_DIR  = BASE_DIR / \"test\"\n",
        "\n",
        "IMG_SIZE = (224, 224)     # MobileNetV2 recommended size\n",
        "BATCH_SIZE = 32\n",
        "EPOCHS = 20\n",
        "MODEL_SAVE_PATH = \"road_damage_mobilenetv2.h5\"\n",
        "BEST_MODEL_PATH = \"best_model.h5\"\n",
        "RANDOM_SEED = 42\n",
        "\n",
        "tf.random.set_seed(RANDOM_SEED)\n",
        "np.random.seed(RANDOM_SEED)\n"
      ]
    },
    {
      "cell_type": "code",
      "execution_count": 26,
      "id": "010c30e1-112d-42b6-9844-1f8614535afe",
      "metadata": {
        "id": "010c30e1-112d-42b6-9844-1f8614535afe"
      },
      "outputs": [],
      "source": []
    },
    {
      "cell_type": "code",
      "execution_count": 26,
      "id": "a1d0ec93-18c0-407f-b1a0-d5d9887180d9",
      "metadata": {
        "id": "a1d0ec93-18c0-407f-b1a0-d5d9887180d9"
      },
      "outputs": [],
      "source": []
    },
    {
      "cell_type": "code",
      "execution_count": 26,
      "id": "beda5b5d-2b3d-45ff-a6da-b41db226a0ba",
      "metadata": {
        "id": "beda5b5d-2b3d-45ff-a6da-b41db226a0ba"
      },
      "outputs": [],
      "source": []
    },
    {
      "cell_type": "code",
      "execution_count": 26,
      "id": "b644b4ee-d427-404e-a29f-130cdae1f287",
      "metadata": {
        "id": "b644b4ee-d427-404e-a29f-130cdae1f287"
      },
      "outputs": [],
      "source": []
    }
  ],
  "metadata": {
    "kernelspec": {
      "display_name": "Python 3.13 (System)",
      "language": "python",
      "name": "py13_sys"
    },
    "language_info": {
      "codemirror_mode": {
        "name": "ipython",
        "version": 3
      },
      "file_extension": ".py",
      "mimetype": "text/x-python",
      "name": "python",
      "nbconvert_exporter": "python",
      "pygments_lexer": "ipython3",
      "version": "3.13.7"
    },
    "colab": {
      "provenance": []
    }
  },
  "nbformat": 4,
  "nbformat_minor": 5
}